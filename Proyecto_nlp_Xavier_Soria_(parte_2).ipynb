{
  "nbformat": 4,
  "nbformat_minor": 0,
  "metadata": {
    "colab": {
      "name": "Proyecto-nlp-Xavier-Soria (parte 2).ipynb",
      "provenance": [],
      "collapsed_sections": [
        "vrz0MOqPppCW",
        "7mqBB_gSqU-O",
        "8p__BdG-nbQJ",
        "64-JIYKzFUVb",
        "j4wgeb2ubREF",
        "7utHSGmTgF71",
        "4yXAz1D37KYR",
        "aFH76QLrDUBE",
        "dSfCsby1FtuR",
        "6Xr4SjePF0rD",
        "h27Xtb2oNu0B",
        "uUrxKuAKR1dB"
      ]
    },
    "kernelspec": {
      "name": "python3",
      "display_name": "Python 3"
    },
    "language_info": {
      "name": "python"
    },
    "accelerator": "GPU",
    "gpuClass": "standard"
  },
  "cells": [
    {
      "cell_type": "markdown",
      "source": [
        "###Continuamos en nuevo Colab, para no saturar RAM y continuar el proyecto sin problemas. No hago importación del Colab anterior, para no tener el mismo problema. Por lo que volvemos a descargar dataset, y declarar las variables básicas nuevamente."
      ],
      "metadata": {
        "id": "vrz0MOqPppCW"
      }
    },
    {
      "cell_type": "markdown",
      "source": [
        ""
      ],
      "metadata": {
        "id": "XfAE8NREfCxB"
      }
    },
    {
      "cell_type": "code",
      "source": [
        "! wget http://snap.stanford.edu/data/amazon/productGraph/categoryFiles/reviews_Video_Games_5.json.gz"
      ],
      "metadata": {
        "colab": {
          "base_uri": "https://localhost:8080/"
        },
        "id": "vFv1bbu4qEzn",
        "outputId": "2ba519b6-361f-4d79-e37e-79f19c63749e"
      },
      "execution_count": 177,
      "outputs": [
        {
          "output_type": "stream",
          "name": "stdout",
          "text": [
            "--2022-07-03 17:54:13--  http://snap.stanford.edu/data/amazon/productGraph/categoryFiles/reviews_Video_Games_5.json.gz\n",
            "Resolving snap.stanford.edu (snap.stanford.edu)... 171.64.75.80\n",
            "Connecting to snap.stanford.edu (snap.stanford.edu)|171.64.75.80|:80... connected.\n",
            "HTTP request sent, awaiting response... 200 OK\n",
            "Length: 113104579 (108M) [application/x-gzip]\n",
            "Saving to: ‘reviews_Video_Games_5.json.gz.2’\n",
            "\n",
            "reviews_Video_Games 100%[===================>] 107.86M  57.4MB/s    in 1.9s    \n",
            "\n",
            "2022-07-03 17:54:15 (57.4 MB/s) - ‘reviews_Video_Games_5.json.gz.2’ saved [113104579/113104579]\n",
            "\n"
          ]
        }
      ]
    },
    {
      "cell_type": "code",
      "source": [
        "import pandas as pd\n",
        "df_video_games = pd.read_json(\"reviews_Video_Games_5.json.gz\", lines=True, compression='gzip')"
      ],
      "metadata": {
        "id": "utp37ceHqG3O"
      },
      "execution_count": 178,
      "outputs": []
    },
    {
      "cell_type": "code",
      "source": [
        "df_video_games.shape"
      ],
      "metadata": {
        "colab": {
          "base_uri": "https://localhost:8080/"
        },
        "id": "TVKWIG4XqJW-",
        "outputId": "96ce352b-a36a-4215-c3b3-d71b06332e3a"
      },
      "execution_count": 179,
      "outputs": [
        {
          "output_type": "execute_result",
          "data": {
            "text/plain": [
              "(231780, 9)"
            ]
          },
          "metadata": {},
          "execution_count": 179
        }
      ]
    },
    {
      "cell_type": "code",
      "source": [
        "#Nos quedamos con las columnas que realmente nos interesan para el proyecto práctica (reviewText y overall)\n",
        "df_video_games = df_video_games[['reviewText', 'overall']]"
      ],
      "metadata": {
        "id": "ToSuk7K7qK7W"
      },
      "execution_count": 180,
      "outputs": []
    },
    {
      "cell_type": "code",
      "source": [
        "df_video_games.shape"
      ],
      "metadata": {
        "colab": {
          "base_uri": "https://localhost:8080/"
        },
        "id": "U_oy2gvfqM1P",
        "outputId": "5bc5567d-195f-4811-9d42-217da0f23a3b"
      },
      "execution_count": 181,
      "outputs": [
        {
          "output_type": "execute_result",
          "data": {
            "text/plain": [
              "(231780, 2)"
            ]
          },
          "metadata": {},
          "execution_count": 181
        }
      ]
    },
    {
      "cell_type": "markdown",
      "source": [
        "### Balanceo del dataset"
      ],
      "metadata": {
        "id": "7mqBB_gSqU-O"
      }
    },
    {
      "cell_type": "code",
      "source": [
        "df_video_games_pos = df_video_games[df_video_games.overall >= 3]\n",
        "df_video_games_neg = df_video_games[df_video_games.overall < 3]"
      ],
      "metadata": {
        "id": "4jSy8RPEqS5W"
      },
      "execution_count": 182,
      "outputs": []
    },
    {
      "cell_type": "code",
      "source": [
        "df_video_games_pos_red =  df_video_games_pos.sample(n=28516, random_state= 30)"
      ],
      "metadata": {
        "id": "XrXbdjW4qZN-"
      },
      "execution_count": 183,
      "outputs": []
    },
    {
      "cell_type": "code",
      "source": [
        "df_video_games_balanced = pd.concat([df_video_games_pos_red, df_video_games_neg], axis = 0)"
      ],
      "metadata": {
        "id": "L4utIKiUqcUn"
      },
      "execution_count": 184,
      "outputs": []
    },
    {
      "cell_type": "code",
      "source": [
        "print(\"El número de reviews positivas son:\",df_video_games_balanced.loc[df_video_games_balanced.overall.between(3,5), 'overall'].count())\n",
        "print(\"El número de reviews negativas son:\",df_video_games_balanced.loc[df_video_games_balanced.overall.between(0, 2.9), 'overall'].count())"
      ],
      "metadata": {
        "colab": {
          "base_uri": "https://localhost:8080/"
        },
        "id": "jIIOzB4NqdzH",
        "outputId": "300c51e7-803a-4e73-9ea6-edfa179ec6f8"
      },
      "execution_count": 185,
      "outputs": [
        {
          "output_type": "stream",
          "name": "stdout",
          "text": [
            "El número de reviews positivas son: 28516\n",
            "El número de reviews negativas son: 28516\n"
          ]
        }
      ]
    },
    {
      "cell_type": "code",
      "source": [
        "df_video_games_balanced.dtypes"
      ],
      "metadata": {
        "colab": {
          "base_uri": "https://localhost:8080/"
        },
        "id": "j0u4YMtCrkik",
        "outputId": "b31469f9-d132-4e2a-985e-d1fedfac8981"
      },
      "execution_count": 186,
      "outputs": [
        {
          "output_type": "execute_result",
          "data": {
            "text/plain": [
              "reviewText    object\n",
              "overall        int64\n",
              "dtype: object"
            ]
          },
          "metadata": {},
          "execution_count": 186
        }
      ]
    },
    {
      "cell_type": "markdown",
      "source": [
        "# 2. Preprocesado"
      ],
      "metadata": {
        "id": "8p__BdG-nbQJ"
      }
    },
    {
      "cell_type": "code",
      "source": [
        "list_reviews  = df_video_games_balanced[\"reviewText\"].tolist()"
      ],
      "metadata": {
        "id": "ci-AQPtCZlCU"
      },
      "execution_count": 187,
      "outputs": []
    },
    {
      "cell_type": "code",
      "source": [
        "list_overall = df_video_games_balanced[\"overall\"].tolist()"
      ],
      "metadata": {
        "id": "cXGW2UjAhDG4"
      },
      "execution_count": 188,
      "outputs": []
    },
    {
      "cell_type": "code",
      "source": [
        "!pip install num2words"
      ],
      "metadata": {
        "colab": {
          "base_uri": "https://localhost:8080/"
        },
        "id": "7zq1Mx69gnuQ",
        "outputId": "347a3622-a716-4c72-c2e1-2fee14b955f7"
      },
      "execution_count": 189,
      "outputs": [
        {
          "output_type": "stream",
          "name": "stdout",
          "text": [
            "Looking in indexes: https://pypi.org/simple, https://us-python.pkg.dev/colab-wheels/public/simple/\n",
            "Requirement already satisfied: num2words in /usr/local/lib/python3.7/dist-packages (0.5.10)\n",
            "Requirement already satisfied: docopt>=0.6.2 in /usr/local/lib/python3.7/dist-packages (from num2words) (0.6.2)\n"
          ]
        }
      ]
    },
    {
      "cell_type": "code",
      "source": [
        "#!pip install stop_words"
      ],
      "metadata": {
        "id": "omJXzt-Ig4pw"
      },
      "execution_count": 190,
      "outputs": []
    },
    {
      "cell_type": "code",
      "source": [
        "import unicodedata\n",
        "import nltk\n",
        "from num2words import num2words\n",
        "\n",
        "from nltk import RegexpTokenizer\n",
        "from nltk.corpus import stopwords\n",
        "from nltk.stem import WordNetLemmatizer\n",
        "#from stop_words import get_stop_words\n",
        "\n",
        "\n",
        "def nltk_cleaner(text, tokenizer, sw_list, lemmatizer):\n",
        "    clean_text = list()\n",
        "    \n",
        "    # Eliminamos ciertos aspectos del dataset\n",
        "    text = unicodedata.normalize('NFKD', text).encode('ascii', 'ignore').decode('utf-8', 'ignore')\n",
        "    \n",
        "    # Separamos las palabras eliminando signos de puntuación, ya que es mejor para poder ver los resultados de los modelos.\n",
        "    for word in tokenizer.tokenize(text):\n",
        "        \n",
        "        # Eliminamos los stopwords, (y justo, posteriormente añadiremos otros), de acuerdo a lo arrojado en la parte de visualización.\n",
        "        if word not in sw_list:\n",
        "            \n",
        "        # Eliminamos espacios sobrantes, convertimos a minúsculas y lematizamos para poder tener de una manera equilibrada tanto los textos como los tiempos verbales de las frases de las reviews.\n",
        "            clean_word = lemmatizer.lemmatize(word).lower().strip()\n",
        "        \n",
        "        # Convertimos los dígitos a palabras para una mejor interpretación de las frases en en el momento de ejecutar los modelos. \n",
        "            if clean_word.isdigit():\n",
        "                clean_word = num2words(clean_word, lang='en')\n",
        "\n",
        "            clean_text.append(clean_word)\n",
        "            \n",
        "    return ' '.join(clean_text)"
      ],
      "metadata": {
        "id": "Gvo7WIGxgCgX"
      },
      "execution_count": 191,
      "outputs": []
    },
    {
      "cell_type": "code",
      "source": [
        "nltk.download('stopwords')"
      ],
      "metadata": {
        "colab": {
          "base_uri": "https://localhost:8080/"
        },
        "id": "b8QQadvVhIdH",
        "outputId": "4b2162d3-bc8f-4ae4-e743-99f2a5575e8b"
      },
      "execution_count": 192,
      "outputs": [
        {
          "output_type": "stream",
          "name": "stderr",
          "text": [
            "[nltk_data] Downloading package stopwords to /root/nltk_data...\n",
            "[nltk_data]   Package stopwords is already up-to-date!\n"
          ]
        },
        {
          "output_type": "execute_result",
          "data": {
            "text/plain": [
              "True"
            ]
          },
          "metadata": {},
          "execution_count": 192
        }
      ]
    },
    {
      "cell_type": "code",
      "source": [
        "nltk.download('wordnet')"
      ],
      "metadata": {
        "colab": {
          "base_uri": "https://localhost:8080/"
        },
        "id": "rTkYDp7ne9_P",
        "outputId": "de9a1fee-0500-4e16-bbb9-4cb4680353b6"
      },
      "execution_count": 193,
      "outputs": [
        {
          "output_type": "stream",
          "name": "stderr",
          "text": [
            "[nltk_data] Downloading package wordnet to /root/nltk_data...\n",
            "[nltk_data]   Package wordnet is already up-to-date!\n"
          ]
        },
        {
          "output_type": "execute_result",
          "data": {
            "text/plain": [
              "True"
            ]
          },
          "metadata": {},
          "execution_count": 193
        }
      ]
    },
    {
      "cell_type": "code",
      "source": [
        "nltk.download('omw-1.4')"
      ],
      "metadata": {
        "colab": {
          "base_uri": "https://localhost:8080/"
        },
        "id": "LqzOExj5fBOV",
        "outputId": "f89c5375-2894-4ac5-83ab-5c42bab05c8c"
      },
      "execution_count": 194,
      "outputs": [
        {
          "output_type": "stream",
          "name": "stderr",
          "text": [
            "[nltk_data] Downloading package omw-1.4 to /root/nltk_data...\n",
            "[nltk_data]   Package omw-1.4 is already up-to-date!\n"
          ]
        },
        {
          "output_type": "execute_result",
          "data": {
            "text/plain": [
              "True"
            ]
          },
          "metadata": {},
          "execution_count": 194
        }
      ]
    },
    {
      "cell_type": "code",
      "source": [
        "tokenizer = RegexpTokenizer(r'\\w+')\n",
        "sw_list = stopwords.words('english')\n",
        "lemmatizer = WordNetLemmatizer()"
      ],
      "metadata": {
        "id": "AUdEEYo8g-nN"
      },
      "execution_count": 195,
      "outputs": []
    },
    {
      "cell_type": "code",
      "source": [
        "#Añadimos a los stopwords, palabras que vemos en el gráfico de frecuencia de palabras o que son comunes del tema, y/o no nos darán mejor información.\n",
        "new_stopwords = ['game','games', 'will', 'play', 'playing' ]\n",
        "sw_list.extend(new_stopwords)"
      ],
      "metadata": {
        "id": "S_UTM-YsJI4F"
      },
      "execution_count": 196,
      "outputs": []
    },
    {
      "cell_type": "code",
      "source": [
        "if 'game' and 'games' in sw_list:\n",
        "  print('Yes')"
      ],
      "metadata": {
        "colab": {
          "base_uri": "https://localhost:8080/"
        },
        "id": "fUoqh5erI_Q7",
        "outputId": "22d421c9-3f03-4660-cc8c-242f8731f56f"
      },
      "execution_count": 197,
      "outputs": [
        {
          "output_type": "stream",
          "name": "stdout",
          "text": [
            "Yes\n"
          ]
        }
      ]
    },
    {
      "cell_type": "code",
      "source": [
        "clean_reviews = []\n",
        "for review in list_reviews:\n",
        "   clean_reviews.append(nltk_cleaner(review, tokenizer, sw_list, lemmatizer))"
      ],
      "metadata": {
        "id": "0lPrV4HHda93"
      },
      "execution_count": 198,
      "outputs": []
    },
    {
      "cell_type": "code",
      "source": [
        "clean_reviews[1]"
      ],
      "metadata": {
        "colab": {
          "base_uri": "https://localhost:8080/",
          "height": 140
        },
        "id": "-U3XuhuEhMjO",
        "outputId": "e13b9758-35ea-4f12-a7cc-b0542c0919bd"
      },
      "execution_count": 199,
      "outputs": [
        {
          "output_type": "execute_result",
          "data": {
            "text/plain": [
              "'this great with many different choice learn develop technique one i going stick if continue every day almost sixty day really good chance learn perform one song learning guitar well take lot practice this definitely make much fun it definitely kept wanting continue learning i spent hour day far i get tired houri stop but variety choice make keep coming back continue progress the includes rocksmith real tone cable one end usb plug xbox end one four thirty-four stereo jack plug guitar i remember first rocksmith two year ago nov two thousand and eleven i beginner time it fun butat time frustrating not i beginner registering accurately i played month put frustration and i never continued learn either now new two thousand and fourteen version released nov two thousand and thirteen much better interacts register lot better first ask initial question determine skill level setting uplay account required provide benefit i setup account the calibration tuning next i completely frustrated stuck ten minute then i realized fix i turned volume guitar halfway way max so volume guitar max every string registering plenty time allowed calibration tool register note so stuck calibration turn volume guitar i able finish calibration two minute i the calibration work really well there much variety rocksmith two thousand and fourteen there video lesson learn skill level and good amount varied song choice classic rock hard rock different decade you also go shop buy song pack song using xbox live account money formerly point you also import song first rocksmith two thousand and eleven there variety choice keep player interested here choice option a learn song learn songb session mode this favorite add backing instrument four react along this excellent mode sometimes want jam even beginner backing instrument include drum bass guitar key percussion synth lead synth bass synth pad misc instrument include banjo kazoo mandolin metronome digital modern vintage toy piano ukulele c nonstop play just set time limit ninety minute set playlist d lessons i found helpup these dvd quality video showing lesson skill level beginner lesson master classes e guitarcade this fun area mess around keep thing interesting you practice technique string skipping fretting slide scale chord etc the fun technique practice excellent f multiplayer two people one another you need two guitar two usb stereo cable g tone designer this fun area create unique tone i much i spending time learning guitar h shop buy additional song pack song these authentic song original rock artist'"
            ],
            "application/vnd.google.colaboratory.intrinsic+json": {
              "type": "string"
            }
          },
          "metadata": {},
          "execution_count": 199
        }
      ]
    },
    {
      "cell_type": "markdown",
      "source": [
        "Volvemos a convertir la lista limpia de las reviews y la de las etiquietas(estrellas) a dataframe, y lo unimos en un nuevo df.\n"
      ],
      "metadata": {
        "id": "r0kRGEKyUhsF"
      }
    },
    {
      "cell_type": "code",
      "source": [
        "df_video_games_balanced_clean = pd.DataFrame (clean_reviews, columns = ['reviewText'])\n",
        "print (df_video_games_balanced_clean.head(10))"
      ],
      "metadata": {
        "colab": {
          "base_uri": "https://localhost:8080/"
        },
        "id": "e_HA0XktKArQ",
        "outputId": "02508955-ad2a-4c54-f4f9-f265b2bc1143"
      },
      "execution_count": 200,
      "outputs": [
        {
          "output_type": "stream",
          "name": "stdout",
          "text": [
            "                                          reviewText\n",
            "0                                     love dance fun\n",
            "1  this great with many different choice learn de...\n",
            "2  super mario sixty-four original nintendo sixty...\n",
            "3  ok i begin there many naysayer behind socom gu...\n",
            "4  if found yoshi touch go lacking do not buy thi...\n",
            "5  this old school yes point click adventure funn...\n",
            "6  this beenan expansion pack sim theme park pric...\n",
            "7  i feel like writing review excellent i played ...\n",
            "8  the new super mario bros nintendo ds super fun...\n",
            "9  anyone rating low save issue kinda missed thin...\n"
          ]
        }
      ]
    },
    {
      "cell_type": "code",
      "source": [
        "df_list_overall = pd.DataFrame (list_overall, columns = ['overall'])\n",
        "print (df_list_overall.head(10))"
      ],
      "metadata": {
        "colab": {
          "base_uri": "https://localhost:8080/"
        },
        "id": "x5guqvMlVIW2",
        "outputId": "0de40495-9736-4ae7-9e99-bcf6c86f2c30"
      },
      "execution_count": 201,
      "outputs": [
        {
          "output_type": "stream",
          "name": "stdout",
          "text": [
            "   overall\n",
            "0        5\n",
            "1        5\n",
            "2        5\n",
            "3        5\n",
            "4        4\n",
            "5        5\n",
            "6        3\n",
            "7        5\n",
            "8        5\n",
            "9        5\n"
          ]
        }
      ]
    },
    {
      "cell_type": "code",
      "source": [
        "#Los unimos: \n",
        "df_video_games_balanced_clean['overall'] = df_list_overall\n",
        "#Comprobamos que se ha hecho correctamente y es igual al dataset balanceado anterior. \n",
        "print(df_video_games_balanced_clean.head(20))"
      ],
      "metadata": {
        "colab": {
          "base_uri": "https://localhost:8080/"
        },
        "id": "lQmFLFEcWSQF",
        "outputId": "adbfc531-a40b-4ca0-e0a2-c3e406a12145"
      },
      "execution_count": 202,
      "outputs": [
        {
          "output_type": "stream",
          "name": "stdout",
          "text": [
            "                                           reviewText  overall\n",
            "0                                      love dance fun        5\n",
            "1   this great with many different choice learn de...        5\n",
            "2   super mario sixty-four original nintendo sixty...        5\n",
            "3   ok i begin there many naysayer behind socom gu...        5\n",
            "4   if found yoshi touch go lacking do not buy thi...        4\n",
            "5   this old school yes point click adventure funn...        5\n",
            "6   this beenan expansion pack sim theme park pric...        3\n",
            "7   i feel like writing review excellent i played ...        5\n",
            "8   the new super mario bros nintendo ds super fun...        5\n",
            "9   anyone rating low save issue kinda missed thin...        5\n",
            "10  don get wrong still humor fallout three still ...        4\n",
            "11  i downloaded demo the cursed crusade trying sl...        4\n",
            "12  after hearing ton good review decided give try...        4\n",
            "13  i put twenty hour gameplay far find extremely ...        4\n",
            "14  this single player review wic its hard underst...        3\n",
            "15  star fox adventures wonderful with mesmerising...        5\n",
            "16  i glad i ignored review expert my two boy nine...        4\n",
            "17  dragon age origins probably go one best i ever...        5\n",
            "18  i bought remote mostly i problem finding every...        4\n",
            "19  i looking nice headset christmas present would...        5\n"
          ]
        }
      ]
    },
    {
      "cell_type": "code",
      "source": [
        "df_video_games_balanced.head(20)"
      ],
      "metadata": {
        "colab": {
          "base_uri": "https://localhost:8080/",
          "height": 676
        },
        "id": "WO7TGiEzU6Z1",
        "outputId": "d189f35a-db0c-410c-e4cd-7088de8da952"
      },
      "execution_count": 203,
      "outputs": [
        {
          "output_type": "execute_result",
          "data": {
            "text/plain": [
              "                                               reviewText  overall\n",
              "158314  love the just dance games  fun  . . . . . . . ...        5\n",
              "224238  This is a great game. With so many different c...        5\n",
              "52118   \"Super Mario 64\" for the original Nintendo 64 ...        5\n",
              "198323  Ok, before I begin, There are many naysayers b...        5\n",
              "54063   If you found Yoshi Touch & Go lacking, DO NOT ...        4\n",
              "10451   This is an old school game. yes its a point an...        5\n",
              "15866   This game should have beenan expansion pack to...        3\n",
              "112152  I do not feel like writing a review, but this ...        5\n",
              "66023   The New Super Mario Bros. for the Nintendo DS ...        5\n",
              "136350  Anyone who is rating this game low because of ...        5\n",
              "91979   Don't get me wrong, there is still humor in Fa...        4\n",
              "168956  I downloaded the demo for The Cursed Crusade w...        4\n",
              "6070    After hearing tons of good reviews for this ga...        4\n",
              "165912  I have put in about 20 hours of gameplay so fa...        4\n",
              "85355   This is a single player review of WIC.Its hard...        3\n",
              "27789   Star Fox Adventures is a wonderful game. With ...        5\n",
              "217902  I'm glad I ignored the reviews from the \"exper...        4\n",
              "167747  DRAGON AGE: ORIGINS will probably go down as o...        5\n",
              "79270   I bought this remote mostly because I had prob...        4\n",
              "169903  I was looking for nice headsets for christmas ...        5"
            ],
            "text/html": [
              "\n",
              "  <div id=\"df-cd8db7fa-b5ef-43c8-8900-2dea0cb0b731\">\n",
              "    <div class=\"colab-df-container\">\n",
              "      <div>\n",
              "<style scoped>\n",
              "    .dataframe tbody tr th:only-of-type {\n",
              "        vertical-align: middle;\n",
              "    }\n",
              "\n",
              "    .dataframe tbody tr th {\n",
              "        vertical-align: top;\n",
              "    }\n",
              "\n",
              "    .dataframe thead th {\n",
              "        text-align: right;\n",
              "    }\n",
              "</style>\n",
              "<table border=\"1\" class=\"dataframe\">\n",
              "  <thead>\n",
              "    <tr style=\"text-align: right;\">\n",
              "      <th></th>\n",
              "      <th>reviewText</th>\n",
              "      <th>overall</th>\n",
              "    </tr>\n",
              "  </thead>\n",
              "  <tbody>\n",
              "    <tr>\n",
              "      <th>158314</th>\n",
              "      <td>love the just dance games  fun  . . . . . . . ...</td>\n",
              "      <td>5</td>\n",
              "    </tr>\n",
              "    <tr>\n",
              "      <th>224238</th>\n",
              "      <td>This is a great game. With so many different c...</td>\n",
              "      <td>5</td>\n",
              "    </tr>\n",
              "    <tr>\n",
              "      <th>52118</th>\n",
              "      <td>\"Super Mario 64\" for the original Nintendo 64 ...</td>\n",
              "      <td>5</td>\n",
              "    </tr>\n",
              "    <tr>\n",
              "      <th>198323</th>\n",
              "      <td>Ok, before I begin, There are many naysayers b...</td>\n",
              "      <td>5</td>\n",
              "    </tr>\n",
              "    <tr>\n",
              "      <th>54063</th>\n",
              "      <td>If you found Yoshi Touch &amp; Go lacking, DO NOT ...</td>\n",
              "      <td>4</td>\n",
              "    </tr>\n",
              "    <tr>\n",
              "      <th>10451</th>\n",
              "      <td>This is an old school game. yes its a point an...</td>\n",
              "      <td>5</td>\n",
              "    </tr>\n",
              "    <tr>\n",
              "      <th>15866</th>\n",
              "      <td>This game should have beenan expansion pack to...</td>\n",
              "      <td>3</td>\n",
              "    </tr>\n",
              "    <tr>\n",
              "      <th>112152</th>\n",
              "      <td>I do not feel like writing a review, but this ...</td>\n",
              "      <td>5</td>\n",
              "    </tr>\n",
              "    <tr>\n",
              "      <th>66023</th>\n",
              "      <td>The New Super Mario Bros. for the Nintendo DS ...</td>\n",
              "      <td>5</td>\n",
              "    </tr>\n",
              "    <tr>\n",
              "      <th>136350</th>\n",
              "      <td>Anyone who is rating this game low because of ...</td>\n",
              "      <td>5</td>\n",
              "    </tr>\n",
              "    <tr>\n",
              "      <th>91979</th>\n",
              "      <td>Don't get me wrong, there is still humor in Fa...</td>\n",
              "      <td>4</td>\n",
              "    </tr>\n",
              "    <tr>\n",
              "      <th>168956</th>\n",
              "      <td>I downloaded the demo for The Cursed Crusade w...</td>\n",
              "      <td>4</td>\n",
              "    </tr>\n",
              "    <tr>\n",
              "      <th>6070</th>\n",
              "      <td>After hearing tons of good reviews for this ga...</td>\n",
              "      <td>4</td>\n",
              "    </tr>\n",
              "    <tr>\n",
              "      <th>165912</th>\n",
              "      <td>I have put in about 20 hours of gameplay so fa...</td>\n",
              "      <td>4</td>\n",
              "    </tr>\n",
              "    <tr>\n",
              "      <th>85355</th>\n",
              "      <td>This is a single player review of WIC.Its hard...</td>\n",
              "      <td>3</td>\n",
              "    </tr>\n",
              "    <tr>\n",
              "      <th>27789</th>\n",
              "      <td>Star Fox Adventures is a wonderful game. With ...</td>\n",
              "      <td>5</td>\n",
              "    </tr>\n",
              "    <tr>\n",
              "      <th>217902</th>\n",
              "      <td>I'm glad I ignored the reviews from the \"exper...</td>\n",
              "      <td>4</td>\n",
              "    </tr>\n",
              "    <tr>\n",
              "      <th>167747</th>\n",
              "      <td>DRAGON AGE: ORIGINS will probably go down as o...</td>\n",
              "      <td>5</td>\n",
              "    </tr>\n",
              "    <tr>\n",
              "      <th>79270</th>\n",
              "      <td>I bought this remote mostly because I had prob...</td>\n",
              "      <td>4</td>\n",
              "    </tr>\n",
              "    <tr>\n",
              "      <th>169903</th>\n",
              "      <td>I was looking for nice headsets for christmas ...</td>\n",
              "      <td>5</td>\n",
              "    </tr>\n",
              "  </tbody>\n",
              "</table>\n",
              "</div>\n",
              "      <button class=\"colab-df-convert\" onclick=\"convertToInteractive('df-cd8db7fa-b5ef-43c8-8900-2dea0cb0b731')\"\n",
              "              title=\"Convert this dataframe to an interactive table.\"\n",
              "              style=\"display:none;\">\n",
              "        \n",
              "  <svg xmlns=\"http://www.w3.org/2000/svg\" height=\"24px\"viewBox=\"0 0 24 24\"\n",
              "       width=\"24px\">\n",
              "    <path d=\"M0 0h24v24H0V0z\" fill=\"none\"/>\n",
              "    <path d=\"M18.56 5.44l.94 2.06.94-2.06 2.06-.94-2.06-.94-.94-2.06-.94 2.06-2.06.94zm-11 1L8.5 8.5l.94-2.06 2.06-.94-2.06-.94L8.5 2.5l-.94 2.06-2.06.94zm10 10l.94 2.06.94-2.06 2.06-.94-2.06-.94-.94-2.06-.94 2.06-2.06.94z\"/><path d=\"M17.41 7.96l-1.37-1.37c-.4-.4-.92-.59-1.43-.59-.52 0-1.04.2-1.43.59L10.3 9.45l-7.72 7.72c-.78.78-.78 2.05 0 2.83L4 21.41c.39.39.9.59 1.41.59.51 0 1.02-.2 1.41-.59l7.78-7.78 2.81-2.81c.8-.78.8-2.07 0-2.86zM5.41 20L4 18.59l7.72-7.72 1.47 1.35L5.41 20z\"/>\n",
              "  </svg>\n",
              "      </button>\n",
              "      \n",
              "  <style>\n",
              "    .colab-df-container {\n",
              "      display:flex;\n",
              "      flex-wrap:wrap;\n",
              "      gap: 12px;\n",
              "    }\n",
              "\n",
              "    .colab-df-convert {\n",
              "      background-color: #E8F0FE;\n",
              "      border: none;\n",
              "      border-radius: 50%;\n",
              "      cursor: pointer;\n",
              "      display: none;\n",
              "      fill: #1967D2;\n",
              "      height: 32px;\n",
              "      padding: 0 0 0 0;\n",
              "      width: 32px;\n",
              "    }\n",
              "\n",
              "    .colab-df-convert:hover {\n",
              "      background-color: #E2EBFA;\n",
              "      box-shadow: 0px 1px 2px rgba(60, 64, 67, 0.3), 0px 1px 3px 1px rgba(60, 64, 67, 0.15);\n",
              "      fill: #174EA6;\n",
              "    }\n",
              "\n",
              "    [theme=dark] .colab-df-convert {\n",
              "      background-color: #3B4455;\n",
              "      fill: #D2E3FC;\n",
              "    }\n",
              "\n",
              "    [theme=dark] .colab-df-convert:hover {\n",
              "      background-color: #434B5C;\n",
              "      box-shadow: 0px 1px 3px 1px rgba(0, 0, 0, 0.15);\n",
              "      filter: drop-shadow(0px 1px 2px rgba(0, 0, 0, 0.3));\n",
              "      fill: #FFFFFF;\n",
              "    }\n",
              "  </style>\n",
              "\n",
              "      <script>\n",
              "        const buttonEl =\n",
              "          document.querySelector('#df-cd8db7fa-b5ef-43c8-8900-2dea0cb0b731 button.colab-df-convert');\n",
              "        buttonEl.style.display =\n",
              "          google.colab.kernel.accessAllowed ? 'block' : 'none';\n",
              "\n",
              "        async function convertToInteractive(key) {\n",
              "          const element = document.querySelector('#df-cd8db7fa-b5ef-43c8-8900-2dea0cb0b731');\n",
              "          const dataTable =\n",
              "            await google.colab.kernel.invokeFunction('convertToInteractive',\n",
              "                                                     [key], {});\n",
              "          if (!dataTable) return;\n",
              "\n",
              "          const docLinkHtml = 'Like what you see? Visit the ' +\n",
              "            '<a target=\"_blank\" href=https://colab.research.google.com/notebooks/data_table.ipynb>data table notebook</a>'\n",
              "            + ' to learn more about interactive tables.';\n",
              "          element.innerHTML = '';\n",
              "          dataTable['output_type'] = 'display_data';\n",
              "          await google.colab.output.renderOutput(dataTable, element);\n",
              "          const docLink = document.createElement('div');\n",
              "          docLink.innerHTML = docLinkHtml;\n",
              "          element.appendChild(docLink);\n",
              "        }\n",
              "      </script>\n",
              "    </div>\n",
              "  </div>\n",
              "  "
            ]
          },
          "metadata": {},
          "execution_count": 203
        }
      ]
    },
    {
      "cell_type": "code",
      "source": [
        "print(df_video_games_balanced.shape)\n",
        "print(df_video_games_balanced_clean.shape)"
      ],
      "metadata": {
        "colab": {
          "base_uri": "https://localhost:8080/"
        },
        "id": "EO-vG9f5YfY7",
        "outputId": "7444a6b2-e8d4-4d6c-d303-950734dcbe7c"
      },
      "execution_count": 204,
      "outputs": [
        {
          "output_type": "stream",
          "name": "stdout",
          "text": [
            "(57032, 2)\n",
            "(57032, 2)\n"
          ]
        }
      ]
    },
    {
      "cell_type": "markdown",
      "source": [
        "Añadimos una columna para tener una clasificación más exacta. Overall <3 será 0 y Overall >= 3 será 1. De esta forma será una clasificacioóm binaria"
      ],
      "metadata": {
        "id": "LqWNyN5sY3ai"
      }
    },
    {
      "cell_type": "code",
      "source": [
        "set(df_video_games_balanced_clean['overall'])"
      ],
      "metadata": {
        "colab": {
          "base_uri": "https://localhost:8080/"
        },
        "id": "eJ0_042QZOjT",
        "outputId": "48b09879-7125-42a7-b06b-05d141a9ebaf"
      },
      "execution_count": 205,
      "outputs": [
        {
          "output_type": "execute_result",
          "data": {
            "text/plain": [
              "{1, 2, 3, 4, 5}"
            ]
          },
          "metadata": {},
          "execution_count": 205
        }
      ]
    },
    {
      "cell_type": "code",
      "source": [
        "def label_sentiment(row):\n",
        "    if int(row['overall']) < 3:\n",
        "        return 0\n",
        "    else:\n",
        "        return 1"
      ],
      "metadata": {
        "id": "9Fcz2LaYZSGL"
      },
      "execution_count": 206,
      "outputs": []
    },
    {
      "cell_type": "code",
      "source": [
        "df_video_games_balanced_clean['overall_label'] = df_video_games_balanced_clean.apply(lambda row: label_sentiment(row), axis=1)"
      ],
      "metadata": {
        "id": "UTfMDzhsZX7b"
      },
      "execution_count": 207,
      "outputs": []
    },
    {
      "cell_type": "code",
      "source": [
        "df_video_games_balanced_clean.head(10)"
      ],
      "metadata": {
        "colab": {
          "base_uri": "https://localhost:8080/",
          "height": 363
        },
        "id": "JF-mDXBBU07G",
        "outputId": "2e5721eb-3a1e-44db-fd68-27a2c78b65b2"
      },
      "execution_count": 208,
      "outputs": [
        {
          "output_type": "execute_result",
          "data": {
            "text/plain": [
              "                                          reviewText  overall  overall_label\n",
              "0                                     love dance fun        5              1\n",
              "1  this great with many different choice learn de...        5              1\n",
              "2  super mario sixty-four original nintendo sixty...        5              1\n",
              "3  ok i begin there many naysayer behind socom gu...        5              1\n",
              "4  if found yoshi touch go lacking do not buy thi...        4              1\n",
              "5  this old school yes point click adventure funn...        5              1\n",
              "6  this beenan expansion pack sim theme park pric...        3              1\n",
              "7  i feel like writing review excellent i played ...        5              1\n",
              "8  the new super mario bros nintendo ds super fun...        5              1\n",
              "9  anyone rating low save issue kinda missed thin...        5              1"
            ],
            "text/html": [
              "\n",
              "  <div id=\"df-cda54cc2-edcc-4d1e-9840-6f6044799489\">\n",
              "    <div class=\"colab-df-container\">\n",
              "      <div>\n",
              "<style scoped>\n",
              "    .dataframe tbody tr th:only-of-type {\n",
              "        vertical-align: middle;\n",
              "    }\n",
              "\n",
              "    .dataframe tbody tr th {\n",
              "        vertical-align: top;\n",
              "    }\n",
              "\n",
              "    .dataframe thead th {\n",
              "        text-align: right;\n",
              "    }\n",
              "</style>\n",
              "<table border=\"1\" class=\"dataframe\">\n",
              "  <thead>\n",
              "    <tr style=\"text-align: right;\">\n",
              "      <th></th>\n",
              "      <th>reviewText</th>\n",
              "      <th>overall</th>\n",
              "      <th>overall_label</th>\n",
              "    </tr>\n",
              "  </thead>\n",
              "  <tbody>\n",
              "    <tr>\n",
              "      <th>0</th>\n",
              "      <td>love dance fun</td>\n",
              "      <td>5</td>\n",
              "      <td>1</td>\n",
              "    </tr>\n",
              "    <tr>\n",
              "      <th>1</th>\n",
              "      <td>this great with many different choice learn de...</td>\n",
              "      <td>5</td>\n",
              "      <td>1</td>\n",
              "    </tr>\n",
              "    <tr>\n",
              "      <th>2</th>\n",
              "      <td>super mario sixty-four original nintendo sixty...</td>\n",
              "      <td>5</td>\n",
              "      <td>1</td>\n",
              "    </tr>\n",
              "    <tr>\n",
              "      <th>3</th>\n",
              "      <td>ok i begin there many naysayer behind socom gu...</td>\n",
              "      <td>5</td>\n",
              "      <td>1</td>\n",
              "    </tr>\n",
              "    <tr>\n",
              "      <th>4</th>\n",
              "      <td>if found yoshi touch go lacking do not buy thi...</td>\n",
              "      <td>4</td>\n",
              "      <td>1</td>\n",
              "    </tr>\n",
              "    <tr>\n",
              "      <th>5</th>\n",
              "      <td>this old school yes point click adventure funn...</td>\n",
              "      <td>5</td>\n",
              "      <td>1</td>\n",
              "    </tr>\n",
              "    <tr>\n",
              "      <th>6</th>\n",
              "      <td>this beenan expansion pack sim theme park pric...</td>\n",
              "      <td>3</td>\n",
              "      <td>1</td>\n",
              "    </tr>\n",
              "    <tr>\n",
              "      <th>7</th>\n",
              "      <td>i feel like writing review excellent i played ...</td>\n",
              "      <td>5</td>\n",
              "      <td>1</td>\n",
              "    </tr>\n",
              "    <tr>\n",
              "      <th>8</th>\n",
              "      <td>the new super mario bros nintendo ds super fun...</td>\n",
              "      <td>5</td>\n",
              "      <td>1</td>\n",
              "    </tr>\n",
              "    <tr>\n",
              "      <th>9</th>\n",
              "      <td>anyone rating low save issue kinda missed thin...</td>\n",
              "      <td>5</td>\n",
              "      <td>1</td>\n",
              "    </tr>\n",
              "  </tbody>\n",
              "</table>\n",
              "</div>\n",
              "      <button class=\"colab-df-convert\" onclick=\"convertToInteractive('df-cda54cc2-edcc-4d1e-9840-6f6044799489')\"\n",
              "              title=\"Convert this dataframe to an interactive table.\"\n",
              "              style=\"display:none;\">\n",
              "        \n",
              "  <svg xmlns=\"http://www.w3.org/2000/svg\" height=\"24px\"viewBox=\"0 0 24 24\"\n",
              "       width=\"24px\">\n",
              "    <path d=\"M0 0h24v24H0V0z\" fill=\"none\"/>\n",
              "    <path d=\"M18.56 5.44l.94 2.06.94-2.06 2.06-.94-2.06-.94-.94-2.06-.94 2.06-2.06.94zm-11 1L8.5 8.5l.94-2.06 2.06-.94-2.06-.94L8.5 2.5l-.94 2.06-2.06.94zm10 10l.94 2.06.94-2.06 2.06-.94-2.06-.94-.94-2.06-.94 2.06-2.06.94z\"/><path d=\"M17.41 7.96l-1.37-1.37c-.4-.4-.92-.59-1.43-.59-.52 0-1.04.2-1.43.59L10.3 9.45l-7.72 7.72c-.78.78-.78 2.05 0 2.83L4 21.41c.39.39.9.59 1.41.59.51 0 1.02-.2 1.41-.59l7.78-7.78 2.81-2.81c.8-.78.8-2.07 0-2.86zM5.41 20L4 18.59l7.72-7.72 1.47 1.35L5.41 20z\"/>\n",
              "  </svg>\n",
              "      </button>\n",
              "      \n",
              "  <style>\n",
              "    .colab-df-container {\n",
              "      display:flex;\n",
              "      flex-wrap:wrap;\n",
              "      gap: 12px;\n",
              "    }\n",
              "\n",
              "    .colab-df-convert {\n",
              "      background-color: #E8F0FE;\n",
              "      border: none;\n",
              "      border-radius: 50%;\n",
              "      cursor: pointer;\n",
              "      display: none;\n",
              "      fill: #1967D2;\n",
              "      height: 32px;\n",
              "      padding: 0 0 0 0;\n",
              "      width: 32px;\n",
              "    }\n",
              "\n",
              "    .colab-df-convert:hover {\n",
              "      background-color: #E2EBFA;\n",
              "      box-shadow: 0px 1px 2px rgba(60, 64, 67, 0.3), 0px 1px 3px 1px rgba(60, 64, 67, 0.15);\n",
              "      fill: #174EA6;\n",
              "    }\n",
              "\n",
              "    [theme=dark] .colab-df-convert {\n",
              "      background-color: #3B4455;\n",
              "      fill: #D2E3FC;\n",
              "    }\n",
              "\n",
              "    [theme=dark] .colab-df-convert:hover {\n",
              "      background-color: #434B5C;\n",
              "      box-shadow: 0px 1px 3px 1px rgba(0, 0, 0, 0.15);\n",
              "      filter: drop-shadow(0px 1px 2px rgba(0, 0, 0, 0.3));\n",
              "      fill: #FFFFFF;\n",
              "    }\n",
              "  </style>\n",
              "\n",
              "      <script>\n",
              "        const buttonEl =\n",
              "          document.querySelector('#df-cda54cc2-edcc-4d1e-9840-6f6044799489 button.colab-df-convert');\n",
              "        buttonEl.style.display =\n",
              "          google.colab.kernel.accessAllowed ? 'block' : 'none';\n",
              "\n",
              "        async function convertToInteractive(key) {\n",
              "          const element = document.querySelector('#df-cda54cc2-edcc-4d1e-9840-6f6044799489');\n",
              "          const dataTable =\n",
              "            await google.colab.kernel.invokeFunction('convertToInteractive',\n",
              "                                                     [key], {});\n",
              "          if (!dataTable) return;\n",
              "\n",
              "          const docLinkHtml = 'Like what you see? Visit the ' +\n",
              "            '<a target=\"_blank\" href=https://colab.research.google.com/notebooks/data_table.ipynb>data table notebook</a>'\n",
              "            + ' to learn more about interactive tables.';\n",
              "          element.innerHTML = '';\n",
              "          dataTable['output_type'] = 'display_data';\n",
              "          await google.colab.output.renderOutput(dataTable, element);\n",
              "          const docLink = document.createElement('div');\n",
              "          docLink.innerHTML = docLinkHtml;\n",
              "          element.appendChild(docLink);\n",
              "        }\n",
              "      </script>\n",
              "    </div>\n",
              "  </div>\n",
              "  "
            ]
          },
          "metadata": {},
          "execution_count": 208
        }
      ]
    },
    {
      "cell_type": "code",
      "source": [
        "df_video_games_balanced_clean.overall_label.value_counts()"
      ],
      "metadata": {
        "colab": {
          "base_uri": "https://localhost:8080/"
        },
        "id": "H0VAM4umZ5XK",
        "outputId": "79ca7e5c-6003-4802-ec31-b9c303bc5ddc"
      },
      "execution_count": 209,
      "outputs": [
        {
          "output_type": "execute_result",
          "data": {
            "text/plain": [
              "1    28516\n",
              "0    28516\n",
              "Name: overall_label, dtype: int64"
            ]
          },
          "metadata": {},
          "execution_count": 209
        }
      ]
    },
    {
      "cell_type": "code",
      "source": [
        "#Pasamos la columna reviewText a texto, para poder pasarla a al TF-IDF\n",
        "df_video_games_balanced_clean['reviewText'] = df_video_games_balanced_clean['reviewText'].str.lower()"
      ],
      "metadata": {
        "id": "2ayopMd73z5T"
      },
      "execution_count": 210,
      "outputs": []
    },
    {
      "cell_type": "code",
      "source": [
        "df_video_games_balanced_clean.head(10)"
      ],
      "metadata": {
        "colab": {
          "base_uri": "https://localhost:8080/",
          "height": 363
        },
        "id": "DIULwTTD4EXi",
        "outputId": "0065c3f0-9764-461c-d1e7-6ff60bb695ab"
      },
      "execution_count": 211,
      "outputs": [
        {
          "output_type": "execute_result",
          "data": {
            "text/plain": [
              "                                          reviewText  overall  overall_label\n",
              "0                                     love dance fun        5              1\n",
              "1  this great with many different choice learn de...        5              1\n",
              "2  super mario sixty-four original nintendo sixty...        5              1\n",
              "3  ok i begin there many naysayer behind socom gu...        5              1\n",
              "4  if found yoshi touch go lacking do not buy thi...        4              1\n",
              "5  this old school yes point click adventure funn...        5              1\n",
              "6  this beenan expansion pack sim theme park pric...        3              1\n",
              "7  i feel like writing review excellent i played ...        5              1\n",
              "8  the new super mario bros nintendo ds super fun...        5              1\n",
              "9  anyone rating low save issue kinda missed thin...        5              1"
            ],
            "text/html": [
              "\n",
              "  <div id=\"df-26cb4cd2-e605-48e9-8e39-2ea3dfa106c1\">\n",
              "    <div class=\"colab-df-container\">\n",
              "      <div>\n",
              "<style scoped>\n",
              "    .dataframe tbody tr th:only-of-type {\n",
              "        vertical-align: middle;\n",
              "    }\n",
              "\n",
              "    .dataframe tbody tr th {\n",
              "        vertical-align: top;\n",
              "    }\n",
              "\n",
              "    .dataframe thead th {\n",
              "        text-align: right;\n",
              "    }\n",
              "</style>\n",
              "<table border=\"1\" class=\"dataframe\">\n",
              "  <thead>\n",
              "    <tr style=\"text-align: right;\">\n",
              "      <th></th>\n",
              "      <th>reviewText</th>\n",
              "      <th>overall</th>\n",
              "      <th>overall_label</th>\n",
              "    </tr>\n",
              "  </thead>\n",
              "  <tbody>\n",
              "    <tr>\n",
              "      <th>0</th>\n",
              "      <td>love dance fun</td>\n",
              "      <td>5</td>\n",
              "      <td>1</td>\n",
              "    </tr>\n",
              "    <tr>\n",
              "      <th>1</th>\n",
              "      <td>this great with many different choice learn de...</td>\n",
              "      <td>5</td>\n",
              "      <td>1</td>\n",
              "    </tr>\n",
              "    <tr>\n",
              "      <th>2</th>\n",
              "      <td>super mario sixty-four original nintendo sixty...</td>\n",
              "      <td>5</td>\n",
              "      <td>1</td>\n",
              "    </tr>\n",
              "    <tr>\n",
              "      <th>3</th>\n",
              "      <td>ok i begin there many naysayer behind socom gu...</td>\n",
              "      <td>5</td>\n",
              "      <td>1</td>\n",
              "    </tr>\n",
              "    <tr>\n",
              "      <th>4</th>\n",
              "      <td>if found yoshi touch go lacking do not buy thi...</td>\n",
              "      <td>4</td>\n",
              "      <td>1</td>\n",
              "    </tr>\n",
              "    <tr>\n",
              "      <th>5</th>\n",
              "      <td>this old school yes point click adventure funn...</td>\n",
              "      <td>5</td>\n",
              "      <td>1</td>\n",
              "    </tr>\n",
              "    <tr>\n",
              "      <th>6</th>\n",
              "      <td>this beenan expansion pack sim theme park pric...</td>\n",
              "      <td>3</td>\n",
              "      <td>1</td>\n",
              "    </tr>\n",
              "    <tr>\n",
              "      <th>7</th>\n",
              "      <td>i feel like writing review excellent i played ...</td>\n",
              "      <td>5</td>\n",
              "      <td>1</td>\n",
              "    </tr>\n",
              "    <tr>\n",
              "      <th>8</th>\n",
              "      <td>the new super mario bros nintendo ds super fun...</td>\n",
              "      <td>5</td>\n",
              "      <td>1</td>\n",
              "    </tr>\n",
              "    <tr>\n",
              "      <th>9</th>\n",
              "      <td>anyone rating low save issue kinda missed thin...</td>\n",
              "      <td>5</td>\n",
              "      <td>1</td>\n",
              "    </tr>\n",
              "  </tbody>\n",
              "</table>\n",
              "</div>\n",
              "      <button class=\"colab-df-convert\" onclick=\"convertToInteractive('df-26cb4cd2-e605-48e9-8e39-2ea3dfa106c1')\"\n",
              "              title=\"Convert this dataframe to an interactive table.\"\n",
              "              style=\"display:none;\">\n",
              "        \n",
              "  <svg xmlns=\"http://www.w3.org/2000/svg\" height=\"24px\"viewBox=\"0 0 24 24\"\n",
              "       width=\"24px\">\n",
              "    <path d=\"M0 0h24v24H0V0z\" fill=\"none\"/>\n",
              "    <path d=\"M18.56 5.44l.94 2.06.94-2.06 2.06-.94-2.06-.94-.94-2.06-.94 2.06-2.06.94zm-11 1L8.5 8.5l.94-2.06 2.06-.94-2.06-.94L8.5 2.5l-.94 2.06-2.06.94zm10 10l.94 2.06.94-2.06 2.06-.94-2.06-.94-.94-2.06-.94 2.06-2.06.94z\"/><path d=\"M17.41 7.96l-1.37-1.37c-.4-.4-.92-.59-1.43-.59-.52 0-1.04.2-1.43.59L10.3 9.45l-7.72 7.72c-.78.78-.78 2.05 0 2.83L4 21.41c.39.39.9.59 1.41.59.51 0 1.02-.2 1.41-.59l7.78-7.78 2.81-2.81c.8-.78.8-2.07 0-2.86zM5.41 20L4 18.59l7.72-7.72 1.47 1.35L5.41 20z\"/>\n",
              "  </svg>\n",
              "      </button>\n",
              "      \n",
              "  <style>\n",
              "    .colab-df-container {\n",
              "      display:flex;\n",
              "      flex-wrap:wrap;\n",
              "      gap: 12px;\n",
              "    }\n",
              "\n",
              "    .colab-df-convert {\n",
              "      background-color: #E8F0FE;\n",
              "      border: none;\n",
              "      border-radius: 50%;\n",
              "      cursor: pointer;\n",
              "      display: none;\n",
              "      fill: #1967D2;\n",
              "      height: 32px;\n",
              "      padding: 0 0 0 0;\n",
              "      width: 32px;\n",
              "    }\n",
              "\n",
              "    .colab-df-convert:hover {\n",
              "      background-color: #E2EBFA;\n",
              "      box-shadow: 0px 1px 2px rgba(60, 64, 67, 0.3), 0px 1px 3px 1px rgba(60, 64, 67, 0.15);\n",
              "      fill: #174EA6;\n",
              "    }\n",
              "\n",
              "    [theme=dark] .colab-df-convert {\n",
              "      background-color: #3B4455;\n",
              "      fill: #D2E3FC;\n",
              "    }\n",
              "\n",
              "    [theme=dark] .colab-df-convert:hover {\n",
              "      background-color: #434B5C;\n",
              "      box-shadow: 0px 1px 3px 1px rgba(0, 0, 0, 0.15);\n",
              "      filter: drop-shadow(0px 1px 2px rgba(0, 0, 0, 0.3));\n",
              "      fill: #FFFFFF;\n",
              "    }\n",
              "  </style>\n",
              "\n",
              "      <script>\n",
              "        const buttonEl =\n",
              "          document.querySelector('#df-26cb4cd2-e605-48e9-8e39-2ea3dfa106c1 button.colab-df-convert');\n",
              "        buttonEl.style.display =\n",
              "          google.colab.kernel.accessAllowed ? 'block' : 'none';\n",
              "\n",
              "        async function convertToInteractive(key) {\n",
              "          const element = document.querySelector('#df-26cb4cd2-e605-48e9-8e39-2ea3dfa106c1');\n",
              "          const dataTable =\n",
              "            await google.colab.kernel.invokeFunction('convertToInteractive',\n",
              "                                                     [key], {});\n",
              "          if (!dataTable) return;\n",
              "\n",
              "          const docLinkHtml = 'Like what you see? Visit the ' +\n",
              "            '<a target=\"_blank\" href=https://colab.research.google.com/notebooks/data_table.ipynb>data table notebook</a>'\n",
              "            + ' to learn more about interactive tables.';\n",
              "          element.innerHTML = '';\n",
              "          dataTable['output_type'] = 'display_data';\n",
              "          await google.colab.output.renderOutput(dataTable, element);\n",
              "          const docLink = document.createElement('div');\n",
              "          docLink.innerHTML = docLinkHtml;\n",
              "          element.appendChild(docLink);\n",
              "        }\n",
              "      </script>\n",
              "    </div>\n",
              "  </div>\n",
              "  "
            ]
          },
          "metadata": {},
          "execution_count": 211
        }
      ]
    },
    {
      "cell_type": "markdown",
      "source": [
        "# 3. Etapa de entrenamiento y testeo de un modelo de análisis de sentimiento"
      ],
      "metadata": {
        "id": "-uH-Djqufx0V"
      }
    },
    {
      "cell_type": "markdown",
      "source": [
        "## Machine learning"
      ],
      "metadata": {
        "id": "64-JIYKzFUVb"
      }
    },
    {
      "cell_type": "markdown",
      "source": [
        "### Separamos en conjunto de train y test"
      ],
      "metadata": {
        "id": "j4wgeb2ubREF"
      }
    },
    {
      "cell_type": "code",
      "source": [
        "from sklearn.model_selection import train_test_split"
      ],
      "metadata": {
        "id": "XZ-DWxhtbiGL"
      },
      "execution_count": 212,
      "outputs": []
    },
    {
      "cell_type": "code",
      "source": [
        "X_train, X_test, y_train, y_test = train_test_split(\n",
        "    df_video_games_balanced_clean['reviewText'],\n",
        "    df_video_games_balanced_clean['overall_label'],\n",
        "    train_size=0.80,\n",
        "    test_size=0.20,\n",
        "    random_state=6,\n",
        "    stratify=df_video_games_balanced_clean['overall_label']\n",
        ")"
      ],
      "metadata": {
        "id": "VCxPtCbNaTHi"
      },
      "execution_count": 213,
      "outputs": []
    },
    {
      "cell_type": "code",
      "source": [
        "y_train.value_counts()"
      ],
      "metadata": {
        "colab": {
          "base_uri": "https://localhost:8080/"
        },
        "id": "MwPWIVNlbweR",
        "outputId": "86caa619-cc0d-41de-c5b9-88e3179c87b7"
      },
      "execution_count": 214,
      "outputs": [
        {
          "output_type": "execute_result",
          "data": {
            "text/plain": [
              "1    22813\n",
              "0    22812\n",
              "Name: overall_label, dtype: int64"
            ]
          },
          "metadata": {},
          "execution_count": 214
        }
      ]
    },
    {
      "cell_type": "code",
      "source": [
        "y_test.value_counts()"
      ],
      "metadata": {
        "colab": {
          "base_uri": "https://localhost:8080/"
        },
        "id": "C5zXiT_jcBoZ",
        "outputId": "278c75fd-1b86-462c-935b-3eee3bbd6c4c"
      },
      "execution_count": 215,
      "outputs": [
        {
          "output_type": "execute_result",
          "data": {
            "text/plain": [
              "0    5704\n",
              "1    5703\n",
              "Name: overall_label, dtype: int64"
            ]
          },
          "metadata": {},
          "execution_count": 215
        }
      ]
    },
    {
      "cell_type": "code",
      "source": [
        "X_train.iloc[:5]"
      ],
      "metadata": {
        "colab": {
          "base_uri": "https://localhost:8080/"
        },
        "id": "mc1S1PfVcLwg",
        "outputId": "79e7384e-c8a6-4018-971a-f16b9dd2ff50"
      },
      "execution_count": 216,
      "outputs": [
        {
          "output_type": "execute_result",
          "data": {
            "text/plain": [
              "52007    i agree apparently half review the pro pretty ...\n",
              "55029    ps4 bricked blue light death ps4 broke two hou...\n",
              "1856     dark souls epic action rpg great character dev...\n",
              "4303     the that bad i decided use couple buck see nea...\n",
              "50250    the novelty quickly wear first sequence this s...\n",
              "Name: reviewText, dtype: object"
            ]
          },
          "metadata": {},
          "execution_count": 216
        }
      ]
    },
    {
      "cell_type": "code",
      "source": [
        "y_train.iloc[:5]"
      ],
      "metadata": {
        "colab": {
          "base_uri": "https://localhost:8080/"
        },
        "id": "6xT0N6xVcL7o",
        "outputId": "5e4b32fd-ee9c-4936-9dca-47926f56732e"
      },
      "execution_count": 217,
      "outputs": [
        {
          "output_type": "execute_result",
          "data": {
            "text/plain": [
              "52007    0\n",
              "55029    0\n",
              "1856     1\n",
              "4303     1\n",
              "50250    0\n",
              "Name: overall_label, dtype: int64"
            ]
          },
          "metadata": {},
          "execution_count": 217
        }
      ]
    },
    {
      "cell_type": "markdown",
      "source": [
        "### TF-IDF Vectorizer (utilizamos TF-IDF Vectorizer, ya que es mejor que el count vectorizer en cuanto a tener en cuenta el peso de las palabras en el corpus"
      ],
      "metadata": {
        "id": "7utHSGmTgF71"
      }
    },
    {
      "cell_type": "code",
      "source": [
        "import random\n",
        "from sklearn.feature_extraction.text import TfidfVectorizer\n",
        "from sklearn.model_selection import train_test_split\n",
        "from sklearn.pipeline import Pipeline\n",
        "from sklearn.feature_extraction.text import CountVectorizer, TfidfVectorizer\n",
        "from sklearn.feature_selection import chi2\n",
        "from sklearn.linear_model import LogisticRegression\n",
        "from sklearn.metrics import accuracy_score, confusion_matrix, classification_report, roc_curve"
      ],
      "metadata": {
        "id": "X5JtLPIDgLv-"
      },
      "execution_count": 218,
      "outputs": []
    },
    {
      "cell_type": "code",
      "source": [
        "# TfIdfVectorizer simple\n",
        "tfidf_simple = TfidfVectorizer()\n",
        "X_train_tfidf_simple = tfidf_simple.fit_transform(X_train)\n",
        "X_test_tfidf_simple = tfidf_simple.transform(X_test)\n",
        "\n",
        "# TfIdfVectorizer complejo\n",
        "tfidf_complex = TfidfVectorizer(ngram_range=(1, 3), max_features=5000, max_df=0.95, min_df=0.05)\n",
        "X_train_tfidf_complex = tfidf_simple.fit_transform(X_train)\n",
        "X_test_tfidf_complex = tfidf_simple.transform(X_test)"
      ],
      "metadata": {
        "id": "VN6DUsRE6X5b"
      },
      "execution_count": 219,
      "outputs": []
    },
    {
      "cell_type": "markdown",
      "source": [
        "###Regresión logística"
      ],
      "metadata": {
        "id": "4yXAz1D37KYR"
      }
    },
    {
      "cell_type": "code",
      "source": [
        "from sklearn.linear_model import LogisticRegression\n",
        "from sklearn.metrics import confusion_matrix, classification_report, accuracy_score"
      ],
      "metadata": {
        "id": "HjXJpM4U65Hz"
      },
      "execution_count": 220,
      "outputs": []
    },
    {
      "cell_type": "code",
      "source": [
        "lr_tfidf_simple = LogisticRegression()\n",
        "lr_tfidf_complex = LogisticRegression()"
      ],
      "metadata": {
        "id": "1UoO_43765LJ"
      },
      "execution_count": 221,
      "outputs": []
    },
    {
      "cell_type": "code",
      "source": [
        "lr_tfidf_simple.fit(X_train_tfidf_simple, y_train)  # train\n",
        "y_pred_tfidf_simple = lr_tfidf_simple.predict(X_test_tfidf_simple)  # test"
      ],
      "metadata": {
        "id": "t24h3dqs7S_R"
      },
      "execution_count": 222,
      "outputs": []
    },
    {
      "cell_type": "code",
      "source": [
        "lr_tfidf_complex.fit(X_train_tfidf_complex, y_train)  # train\n",
        "y_pred_tfidf_complex = lr_tfidf_complex.predict(X_test_tfidf_complex)  # test"
      ],
      "metadata": {
        "id": "2t0sEd1I7TFR"
      },
      "execution_count": 223,
      "outputs": []
    },
    {
      "cell_type": "code",
      "source": [
        "print('TfIdfVectorizer simple\\n')\n",
        "print(confusion_matrix(y_test, y_pred_tfidf_simple))\n",
        "print(classification_report(y_test, y_pred_tfidf_simple))"
      ],
      "metadata": {
        "colab": {
          "base_uri": "https://localhost:8080/"
        },
        "id": "sqh283N37THo",
        "outputId": "d80f5e77-6c82-4db1-fc07-12013e150ec1"
      },
      "execution_count": 224,
      "outputs": [
        {
          "output_type": "stream",
          "name": "stdout",
          "text": [
            "TfIdfVectorizer simple\n",
            "\n",
            "[[4860  844]\n",
            " [ 890 4813]]\n",
            "              precision    recall  f1-score   support\n",
            "\n",
            "           0       0.85      0.85      0.85      5704\n",
            "           1       0.85      0.84      0.85      5703\n",
            "\n",
            "    accuracy                           0.85     11407\n",
            "   macro avg       0.85      0.85      0.85     11407\n",
            "weighted avg       0.85      0.85      0.85     11407\n",
            "\n"
          ]
        }
      ]
    },
    {
      "cell_type": "code",
      "source": [
        "print('TfIdfVectorizer complejo\\n')\n",
        "print(confusion_matrix(y_test, y_pred_tfidf_complex))\n",
        "print(classification_report(y_test, y_pred_tfidf_complex))"
      ],
      "metadata": {
        "colab": {
          "base_uri": "https://localhost:8080/"
        },
        "id": "Welig72W79Wy",
        "outputId": "4b39290d-ba54-4d4d-b959-820365e21ce9"
      },
      "execution_count": 225,
      "outputs": [
        {
          "output_type": "stream",
          "name": "stdout",
          "text": [
            "TfIdfVectorizer complejo\n",
            "\n",
            "[[4860  844]\n",
            " [ 890 4813]]\n",
            "              precision    recall  f1-score   support\n",
            "\n",
            "           0       0.85      0.85      0.85      5704\n",
            "           1       0.85      0.84      0.85      5703\n",
            "\n",
            "    accuracy                           0.85     11407\n",
            "   macro avg       0.85      0.85      0.85     11407\n",
            "weighted avg       0.85      0.85      0.85     11407\n",
            "\n"
          ]
        }
      ]
    },
    {
      "cell_type": "markdown",
      "source": [
        "### Gradient Boosting Classifier"
      ],
      "metadata": {
        "id": "aFH76QLrDUBE"
      }
    },
    {
      "cell_type": "code",
      "source": [
        "from sklearn.ensemble import GradientBoostingClassifier\n",
        "\n",
        "n_estimators = 50\n",
        "\n",
        "def classify_gboost(X_train, X_test, y_train, y_test):        \n",
        "    clf = GradientBoostingClassifier(n_estimators=n_estimators, learning_rate=0.2, max_depth=10, random_state=30)\n",
        "\n",
        "    clf.fit(X_train, y_train)\n",
        "    \n",
        "    print(\"[{}] Accuracy: train = {}, test = {}\".format(\n",
        "            clf.__class__.__name__,\n",
        "            clf.score(X_train, y_train),\n",
        "            clf.score(X_test, y_test)))\n",
        "    \n",
        "    return clf"
      ],
      "metadata": {
        "id": "jkD91vix79Y4"
      },
      "execution_count": 226,
      "outputs": []
    },
    {
      "cell_type": "code",
      "source": [
        "cv = TfidfVectorizer(\n",
        "    ngram_range=(1, 3),\n",
        "    max_df=0.95,\n",
        "    min_df=3,\n",
        "    max_features=2800\n",
        ")\n",
        "\n",
        "cv.fit(X_train)\n"
      ],
      "metadata": {
        "colab": {
          "base_uri": "https://localhost:8080/"
        },
        "id": "pxV3p1R1D3R7",
        "outputId": "37877809-b873-4233-ddcb-30db4965a7ab"
      },
      "execution_count": 227,
      "outputs": [
        {
          "output_type": "execute_result",
          "data": {
            "text/plain": [
              "TfidfVectorizer(max_df=0.95, max_features=2800, min_df=3, ngram_range=(1, 3))"
            ]
          },
          "metadata": {},
          "execution_count": 227
        }
      ]
    },
    {
      "cell_type": "code",
      "source": [
        "X_train_ = cv.transform(X_train)\n",
        "X_test_ = cv.transform(X_test)"
      ],
      "metadata": {
        "id": "R2KGvkABFNSD"
      },
      "execution_count": 228,
      "outputs": []
    },
    {
      "cell_type": "code",
      "source": [
        "import sklearn.preprocessing as pr\n",
        "X_train_ = pr.normalize(X_train_, axis=1)\n",
        "X_test_ = pr.normalize(X_test_, axis=1)"
      ],
      "metadata": {
        "id": "ElY_bCIAecqq"
      },
      "execution_count": 229,
      "outputs": []
    },
    {
      "cell_type": "code",
      "source": [
        "clf2 = classify_gboost(X_train_, X_test_, y_train, y_test)"
      ],
      "metadata": {
        "colab": {
          "base_uri": "https://localhost:8080/"
        },
        "id": "OU6mOgbRDndO",
        "outputId": "930d4c61-abf8-4ea5-84bd-37e1786ece73"
      },
      "execution_count": 230,
      "outputs": [
        {
          "output_type": "stream",
          "name": "stdout",
          "text": [
            "[GradientBoostingClassifier] Accuracy: train = 0.9235506849315068, test = 0.8029280266503025\n"
          ]
        }
      ]
    },
    {
      "cell_type": "markdown",
      "source": [
        "Podemos ver que en este caso el Accuracy de train es más o menos bueno, pero no el de test, y a su vez, podemos ver que hay un poco de Overfitting y el modelo no generaliza del todo bien. "
      ],
      "metadata": {
        "id": "WxHiyb9rflvo"
      }
    },
    {
      "cell_type": "markdown",
      "source": [
        ""
      ],
      "metadata": {
        "id": "ntBq_tIDJhF4"
      }
    },
    {
      "cell_type": "markdown",
      "source": [
        "## Deep Learning (no se ha podido continuar) "
      ],
      "metadata": {
        "id": "dSfCsby1FtuR"
      }
    },
    {
      "cell_type": "markdown",
      "source": [
        "###Word2Vec"
      ],
      "metadata": {
        "id": "6Xr4SjePF0rD"
      }
    },
    {
      "cell_type": "code",
      "source": [
        "from gensim.models import Word2Vec\n",
        "from gensim.models.word2vec import LineSentence"
      ],
      "metadata": {
        "id": "jes92YXLF2ZS"
      },
      "execution_count": 231,
      "outputs": []
    },
    {
      "cell_type": "code",
      "source": [
        "df_video_games_balanced_clean_DL = df_video_games_balanced_clean"
      ],
      "metadata": {
        "id": "a0IbEj5NHJF6"
      },
      "execution_count": 232,
      "outputs": []
    },
    {
      "cell_type": "code",
      "source": [
        "df_video_games_balanced_clean_DL['reviewText'] = [_text.split() for _text in df_video_games_balanced_clean.reviewText]"
      ],
      "metadata": {
        "id": "SPRBDrs5mzAD"
      },
      "execution_count": 233,
      "outputs": []
    },
    {
      "cell_type": "code",
      "source": [
        "sg_params = {\n",
        "    'size': 150,\n",
        "    'window': 10,\n",
        "    'min_count': 8,\n",
        "    'sg': 1,\n",
        "    'hs': 0,\n",
        "    'negative': 20\n",
        "}\n",
        "\n",
        "cbow_params = {\n",
        "    'size': 25,\n",
        "    'window': 5,\n",
        "    'min_count': 5,\n",
        "    'sg': 0,\n",
        "    'hs': 1,\n",
        "}"
      ],
      "metadata": {
        "id": "zSrkB6TOIsuX"
      },
      "execution_count": 234,
      "outputs": []
    },
    {
      "cell_type": "code",
      "source": [
        "# Skip Gram\n",
        "w2v_sg = Word2Vec(**sg_params)"
      ],
      "metadata": {
        "id": "sq1axQiBI3bz"
      },
      "execution_count": 235,
      "outputs": []
    },
    {
      "cell_type": "code",
      "source": [
        "# CBOW\n",
        "w2v_cbow = Word2Vec(**cbow_params)"
      ],
      "metadata": {
        "id": "baLNPwb3KVvY"
      },
      "execution_count": 236,
      "outputs": []
    },
    {
      "cell_type": "code",
      "source": [
        "# Skip Gram\n",
        "w2v_sg.build_vocab(df_video_games_balanced_clean_DL['reviewText'])"
      ],
      "metadata": {
        "id": "Gjk3EwjgI92D"
      },
      "execution_count": 237,
      "outputs": []
    },
    {
      "cell_type": "code",
      "source": [
        "# CBOW\n",
        "w2v_cbow.build_vocab(df_video_games_balanced_clean_DL['reviewText'])"
      ],
      "metadata": {
        "id": "ARyYrqSaKXdn"
      },
      "execution_count": 238,
      "outputs": []
    },
    {
      "cell_type": "code",
      "source": [
        "print('Vocabulario compuesto por {} palabras'.format(len(w2v_sg.wv.vocab)))"
      ],
      "metadata": {
        "colab": {
          "base_uri": "https://localhost:8080/"
        },
        "id": "llHooz9GJDSq",
        "outputId": "7d31740f-9b9d-47ca-fd38-35a46de2cff3"
      },
      "execution_count": 239,
      "outputs": [
        {
          "output_type": "stream",
          "name": "stdout",
          "text": [
            "Vocabulario compuesto por 20057 palabras\n"
          ]
        }
      ]
    },
    {
      "cell_type": "code",
      "source": [
        "print('Vocabulario compuesto por {} palabras'.format(len(w2v_cbow.wv.vocab)))"
      ],
      "metadata": {
        "colab": {
          "base_uri": "https://localhost:8080/"
        },
        "id": "7J4ICZJwmCYH",
        "outputId": "9d08b293-d73f-446e-a5f7-de4175fc1bc6"
      },
      "execution_count": 240,
      "outputs": [
        {
          "output_type": "stream",
          "name": "stdout",
          "text": [
            "Vocabulario compuesto por 25601 palabras\n"
          ]
        }
      ]
    },
    {
      "cell_type": "code",
      "source": [
        "# Skip Gram\n",
        "w2v_sg.train(sentences=df_video_games_balanced_clean_DL['reviewText'], total_examples=w2v_sg.corpus_count, epochs=2)"
      ],
      "metadata": {
        "colab": {
          "base_uri": "https://localhost:8080/"
        },
        "id": "btVLldKSJFW6",
        "outputId": "0d2f3ebe-562c-4b6b-c435-5d6146f399e0"
      },
      "execution_count": 241,
      "outputs": [
        {
          "output_type": "execute_result",
          "data": {
            "text/plain": [
              "(11669204, 12998050)"
            ]
          },
          "metadata": {},
          "execution_count": 241
        }
      ]
    },
    {
      "cell_type": "code",
      "source": [
        "# CBOW\n",
        "w2v_cbow.train(sentences=df_video_games_balanced_clean_DL['reviewText'], total_examples=w2v_cbow.corpus_count, epochs=2)"
      ],
      "metadata": {
        "colab": {
          "base_uri": "https://localhost:8080/"
        },
        "id": "XC_9FTYlp1Rq",
        "outputId": "a62765ba-efb7-4bdc-9911-54d062cff463"
      },
      "execution_count": 242,
      "outputs": [
        {
          "output_type": "execute_result",
          "data": {
            "text/plain": [
              "(11738521, 12998050)"
            ]
          },
          "metadata": {},
          "execution_count": 242
        }
      ]
    },
    {
      "cell_type": "code",
      "source": [
        "#Vamos a ver las palabras más similares\n",
        "def print_sim_words(word, model1, model2):\n",
        "    query = \"Most similar to {}\".format(word) \n",
        "    print(query)\n",
        "    print(\"-\"*len(query))\n",
        "    for (sim1, sim2) in zip(model1.wv.most_similar(word), model2.wv.most_similar(word)):\n",
        "        print(\"{}:{}{:.3f}{}{}:{}{:.3f}\".format(sim1[0],\n",
        "                                               \" \"*(20-len(sim1[0])), \n",
        "                                               sim1[1], \n",
        "                                               \" \"*10, \n",
        "                                               sim2[0],\n",
        "                                               \" \"*(20-len(sim2[0])),\n",
        "                                               sim2[1]))\n",
        "    print(\"\\n\")"
      ],
      "metadata": {
        "id": "ZOQaFP6bNGDL"
      },
      "execution_count": 243,
      "outputs": []
    },
    {
      "cell_type": "code",
      "source": [
        "print_sim_words('fun', w2v_cbow, w2v_sg)\n",
        "print_sim_words('bad', w2v_cbow, w2v_sg)\n",
        "print_sim_words('enjoy', w2v_cbow, w2v_sg)\n",
        "print_sim_words('graphic', w2v_cbow, w2v_sg)"
      ],
      "metadata": {
        "colab": {
          "base_uri": "https://localhost:8080/"
        },
        "id": "kK0c04k4NOND",
        "outputId": "ca8b5047-f927-4b0d-ed78-ecaf6596a970"
      },
      "execution_count": 244,
      "outputs": [
        {
          "output_type": "stream",
          "name": "stdout",
          "text": [
            "Most similar to fun\n",
            "-------------------\n",
            "addicting:           0.860          enjoyable:           0.779\n",
            "entertaining:        0.821          funner:              0.766\n",
            "addictive:           0.818          replayable:          0.764\n",
            "boring:              0.805          wayyy:               0.758\n",
            "challenging:         0.800          entertaining:        0.750\n",
            "exciting:            0.787          repetitiveness:      0.750\n",
            "enjoyable:           0.782          multilayer:          0.750\n",
            "repetive:            0.774          waster:              0.749\n",
            "simplistic:          0.762          stimulating:         0.749\n",
            "bore:                0.759          extremly:            0.745\n",
            "\n",
            "\n",
            "Most similar to bad\n",
            "-------------------\n",
            "awful:               0.923          good:                0.806\n",
            "terrible:            0.904          horrible:            0.781\n",
            "horrible:            0.898          terrible:            0.773\n",
            "suck:                0.885          sucky:               0.741\n",
            "crappy:              0.821          poor:                0.740\n",
            "good:                0.816          piss:                0.736\n",
            "stink:               0.809          tbh:                 0.730\n",
            "horrid:              0.805          graphis:             0.727\n",
            "alright:             0.795          medicore:            0.726\n",
            "ok:                  0.787          lousy:               0.725\n",
            "\n",
            "\n",
            "Most similar to enjoy\n",
            "---------------------\n",
            "enjoying:            0.808          reccommend:          0.778\n",
            "interested:          0.802          mindset:             0.770\n",
            "love:                0.800          junkie:              0.763\n",
            "enjoys:              0.756          love:                0.750\n",
            "enjoyed:             0.753          masochist:           0.748\n",
            "brainteasers:        0.730          aficionado:          0.747\n",
            "creeped:             0.729          addict:              0.746\n",
            "dislike:             0.721          definantly:          0.746\n",
            "appreciate:          0.717          enjoying:            0.745\n",
            "reccommend:          0.705          enjoyed:             0.744\n",
            "\n",
            "\n",
            "Most similar to graphic\n",
            "-----------------------\n",
            "graphically:         0.901          graphics:            0.834\n",
            "visuals:             0.896          visuals:             0.832\n",
            "graphics:            0.875          graphically:         0.781\n",
            "grapics:             0.850          grapics:             0.778\n",
            "presentation:        0.798          jaggies:             0.750\n",
            "graphicscons:        0.782          physics:             0.743\n",
            "imo:                 0.772          textures:            0.743\n",
            "medicore:            0.771          smoothness:          0.734\n",
            "gameplay:            0.765          grafics:             0.730\n",
            "visually:            0.764          shabby:              0.729\n",
            "\n",
            "\n"
          ]
        }
      ]
    },
    {
      "cell_type": "markdown",
      "source": [
        "Podemos ver que el cbow, va un poco mejor que Skip gram"
      ],
      "metadata": {
        "id": "swYAVIiPNe_C"
      }
    },
    {
      "cell_type": "markdown",
      "source": [
        "### Separamos en conjunto de train y test para el modelo de Deep Learning"
      ],
      "metadata": {
        "id": "h27Xtb2oNu0B"
      }
    },
    {
      "cell_type": "code",
      "source": [
        "from sklearn.model_selection import train_test_split\n",
        "X_train2, X_test2, y_train2, y_test2 = train_test_split(\n",
        "    df_video_games_balanced_clean_DL['reviewText'],\n",
        "    df_video_games_balanced_clean_DL['overall_label'],\n",
        "    train_size=0.80,\n",
        "    test_size=0.20,\n",
        "    random_state=6,\n",
        "    stratify=df_video_games_balanced_clean_DL['overall_label']\n",
        ")"
      ],
      "metadata": {
        "id": "K7cBN1sGNu0B"
      },
      "execution_count": 245,
      "outputs": []
    },
    {
      "cell_type": "code",
      "source": [
        "y_train2.value_counts()"
      ],
      "metadata": {
        "colab": {
          "base_uri": "https://localhost:8080/"
        },
        "outputId": "fb34f626-0ca5-4aa5-b1d1-1b7b5b9a2b21",
        "id": "jxPyqGPdNu0B"
      },
      "execution_count": 246,
      "outputs": [
        {
          "output_type": "execute_result",
          "data": {
            "text/plain": [
              "1    22813\n",
              "0    22812\n",
              "Name: overall_label, dtype: int64"
            ]
          },
          "metadata": {},
          "execution_count": 246
        }
      ]
    },
    {
      "cell_type": "code",
      "source": [
        "y_test2.value_counts()"
      ],
      "metadata": {
        "colab": {
          "base_uri": "https://localhost:8080/"
        },
        "outputId": "8ad13a1b-3043-46d4-a0cd-857156d1971d",
        "id": "f-fNhyGaNu0B"
      },
      "execution_count": 247,
      "outputs": [
        {
          "output_type": "execute_result",
          "data": {
            "text/plain": [
              "0    5704\n",
              "1    5703\n",
              "Name: overall_label, dtype: int64"
            ]
          },
          "metadata": {},
          "execution_count": 247
        }
      ]
    },
    {
      "cell_type": "code",
      "source": [
        "X_train2.iloc[:5]"
      ],
      "metadata": {
        "colab": {
          "base_uri": "https://localhost:8080/"
        },
        "outputId": "627fa238-ec11-4eda-a992-707f60c477c1",
        "id": "EHcdr4CYNu0C"
      },
      "execution_count": 248,
      "outputs": [
        {
          "output_type": "execute_result",
          "data": {
            "text/plain": [
              "52007    [i, agree, apparently, half, review, the, pro,...\n",
              "55029    [ps4, bricked, blue, light, death, ps4, broke,...\n",
              "1856     [dark, souls, epic, action, rpg, great, charac...\n",
              "4303     [the, that, bad, i, decided, use, couple, buck...\n",
              "50250    [the, novelty, quickly, wear, first, sequence,...\n",
              "Name: reviewText, dtype: object"
            ]
          },
          "metadata": {},
          "execution_count": 248
        }
      ]
    },
    {
      "cell_type": "code",
      "source": [
        "y_train2.iloc[:5]"
      ],
      "metadata": {
        "colab": {
          "base_uri": "https://localhost:8080/"
        },
        "outputId": "c4711654-e565-4818-b7b8-759aa1dfd2e2",
        "id": "e3dVFa3vNu0C"
      },
      "execution_count": 249,
      "outputs": [
        {
          "output_type": "execute_result",
          "data": {
            "text/plain": [
              "52007    0\n",
              "55029    0\n",
              "1856     1\n",
              "4303     1\n",
              "50250    0\n",
              "Name: overall_label, dtype: int64"
            ]
          },
          "metadata": {},
          "execution_count": 249
        }
      ]
    },
    {
      "cell_type": "markdown",
      "source": [
        "Vemos la media de palabras por frase"
      ],
      "metadata": {
        "id": "JEjklPOAOAaD"
      }
    },
    {
      "cell_type": "code",
      "source": [
        "max = 0\n",
        "mean = []\n",
        "for example in X_train2:\n",
        "  length = len(example)\n",
        "  mean.append(len(example))\n",
        "  if length > max:\n",
        "    max = length"
      ],
      "metadata": {
        "id": "BlGaj1xOOGqS"
      },
      "execution_count": 250,
      "outputs": []
    },
    {
      "cell_type": "code",
      "source": [
        "max"
      ],
      "metadata": {
        "colab": {
          "base_uri": "https://localhost:8080/"
        },
        "id": "8hje0YlkOQZb",
        "outputId": "ce46e3b1-c94e-4720-d89e-3591d246aa22"
      },
      "execution_count": 251,
      "outputs": [
        {
          "output_type": "execute_result",
          "data": {
            "text/plain": [
              "3139"
            ]
          },
          "metadata": {},
          "execution_count": 251
        }
      ]
    },
    {
      "cell_type": "code",
      "source": [
        "print(len(mean))\n",
        "print(sum(mean) / len(mean))"
      ],
      "metadata": {
        "colab": {
          "base_uri": "https://localhost:8080/"
        },
        "id": "MrX01W6kOTOr",
        "outputId": "70507418-5759-4a1c-83fa-b9d62a776205"
      },
      "execution_count": 252,
      "outputs": [
        {
          "output_type": "stream",
          "name": "stdout",
          "text": [
            "45625\n",
            "114.45867397260274\n"
          ]
        }
      ]
    },
    {
      "cell_type": "code",
      "source": [
        "X_train2"
      ],
      "metadata": {
        "colab": {
          "base_uri": "https://localhost:8080/"
        },
        "id": "nY5VFXIuWe0v",
        "outputId": "63a0aead-3811-414b-e7a5-f2f45ce936e7"
      },
      "execution_count": 253,
      "outputs": [
        {
          "output_type": "execute_result",
          "data": {
            "text/plain": [
              "52007    [i, agree, apparently, half, review, the, pro,...\n",
              "55029    [ps4, bricked, blue, light, death, ps4, broke,...\n",
              "1856     [dark, souls, epic, action, rpg, great, charac...\n",
              "4303     [the, that, bad, i, decided, use, couple, buck...\n",
              "50250    [the, novelty, quickly, wear, first, sequence,...\n",
              "                               ...                        \n",
              "23911    [i, going, buy, opening, day, i, hesitated, i,...\n",
              "7791     [the, magician, quest, decent, the, graphic, n...\n",
              "37650    [i, looking, forward, getting, utilizes, wii, ...\n",
              "47367    [i, using, logitech, g9, five, year, this, rat...\n",
              "24233    [i, really, like, i, think, best, want, charge...\n",
              "Name: reviewText, Length: 45625, dtype: object"
            ]
          },
          "metadata": {},
          "execution_count": 253
        }
      ]
    },
    {
      "cell_type": "markdown",
      "source": [
        "###Modelo Deep Learning"
      ],
      "metadata": {
        "id": "uUrxKuAKR1dB"
      }
    },
    {
      "cell_type": "code",
      "source": [
        "from keras.preprocessing import sequence\n",
        "\n",
        "max_words = 800\n",
        "\n",
        "X_train2 = sequence.pad_sequences(X_train2, maxlen=max_words)\n",
        "X_test2 = sequence.pad_sequences(X_test2, maxlen=max_words)"
      ],
      "metadata": {
        "colab": {
          "base_uri": "https://localhost:8080/",
          "height": 363
        },
        "id": "BTkEjl5POb5c",
        "outputId": "1a9d01e5-3e9c-429e-e76f-da5dc965a2f7"
      },
      "execution_count": 254,
      "outputs": [
        {
          "output_type": "error",
          "ename": "ValueError",
          "evalue": "ignored",
          "traceback": [
            "\u001b[0;31m---------------------------------------------------------------------------\u001b[0m",
            "\u001b[0;31mValueError\u001b[0m                                Traceback (most recent call last)",
            "\u001b[0;32m<ipython-input-254-aaafa3224681>\u001b[0m in \u001b[0;36m<module>\u001b[0;34m()\u001b[0m\n\u001b[1;32m      3\u001b[0m \u001b[0mmax_words\u001b[0m \u001b[0;34m=\u001b[0m \u001b[0;36m800\u001b[0m\u001b[0;34m\u001b[0m\u001b[0;34m\u001b[0m\u001b[0m\n\u001b[1;32m      4\u001b[0m \u001b[0;34m\u001b[0m\u001b[0m\n\u001b[0;32m----> 5\u001b[0;31m \u001b[0mX_train2\u001b[0m \u001b[0;34m=\u001b[0m \u001b[0msequence\u001b[0m\u001b[0;34m.\u001b[0m\u001b[0mpad_sequences\u001b[0m\u001b[0;34m(\u001b[0m\u001b[0mX_train2\u001b[0m\u001b[0;34m,\u001b[0m \u001b[0mmaxlen\u001b[0m\u001b[0;34m=\u001b[0m\u001b[0mmax_words\u001b[0m\u001b[0;34m)\u001b[0m\u001b[0;34m\u001b[0m\u001b[0;34m\u001b[0m\u001b[0m\n\u001b[0m\u001b[1;32m      6\u001b[0m \u001b[0mX_test2\u001b[0m \u001b[0;34m=\u001b[0m \u001b[0msequence\u001b[0m\u001b[0;34m.\u001b[0m\u001b[0mpad_sequences\u001b[0m\u001b[0;34m(\u001b[0m\u001b[0mX_test2\u001b[0m\u001b[0;34m,\u001b[0m \u001b[0mmaxlen\u001b[0m\u001b[0;34m=\u001b[0m\u001b[0mmax_words\u001b[0m\u001b[0;34m)\u001b[0m\u001b[0;34m\u001b[0m\u001b[0;34m\u001b[0m\u001b[0m\n",
            "\u001b[0;32m/usr/local/lib/python3.7/dist-packages/keras/preprocessing/sequence.py\u001b[0m in \u001b[0;36mpad_sequences\u001b[0;34m(sequences, maxlen, dtype, padding, truncating, value)\u001b[0m\n\u001b[1;32m    152\u001b[0m   return sequence.pad_sequences(\n\u001b[1;32m    153\u001b[0m       \u001b[0msequences\u001b[0m\u001b[0;34m,\u001b[0m \u001b[0mmaxlen\u001b[0m\u001b[0;34m=\u001b[0m\u001b[0mmaxlen\u001b[0m\u001b[0;34m,\u001b[0m \u001b[0mdtype\u001b[0m\u001b[0;34m=\u001b[0m\u001b[0mdtype\u001b[0m\u001b[0;34m,\u001b[0m\u001b[0;34m\u001b[0m\u001b[0;34m\u001b[0m\u001b[0m\n\u001b[0;32m--> 154\u001b[0;31m       padding=padding, truncating=truncating, value=value)\n\u001b[0m\u001b[1;32m    155\u001b[0m \u001b[0;34m\u001b[0m\u001b[0m\n\u001b[1;32m    156\u001b[0m keras_export(\n",
            "\u001b[0;32m/usr/local/lib/python3.7/dist-packages/keras_preprocessing/sequence.py\u001b[0m in \u001b[0;36mpad_sequences\u001b[0;34m(sequences, maxlen, dtype, padding, truncating, value)\u001b[0m\n\u001b[1;32m     96\u001b[0m \u001b[0;34m\u001b[0m\u001b[0m\n\u001b[1;32m     97\u001b[0m         \u001b[0;31m# check `trunc` has expected shape\u001b[0m\u001b[0;34m\u001b[0m\u001b[0;34m\u001b[0m\u001b[0;34m\u001b[0m\u001b[0m\n\u001b[0;32m---> 98\u001b[0;31m         \u001b[0mtrunc\u001b[0m \u001b[0;34m=\u001b[0m \u001b[0mnp\u001b[0m\u001b[0;34m.\u001b[0m\u001b[0masarray\u001b[0m\u001b[0;34m(\u001b[0m\u001b[0mtrunc\u001b[0m\u001b[0;34m,\u001b[0m \u001b[0mdtype\u001b[0m\u001b[0;34m=\u001b[0m\u001b[0mdtype\u001b[0m\u001b[0;34m)\u001b[0m\u001b[0;34m\u001b[0m\u001b[0;34m\u001b[0m\u001b[0m\n\u001b[0m\u001b[1;32m     99\u001b[0m         \u001b[0;32mif\u001b[0m \u001b[0mtrunc\u001b[0m\u001b[0;34m.\u001b[0m\u001b[0mshape\u001b[0m\u001b[0;34m[\u001b[0m\u001b[0;36m1\u001b[0m\u001b[0;34m:\u001b[0m\u001b[0;34m]\u001b[0m \u001b[0;34m!=\u001b[0m \u001b[0msample_shape\u001b[0m\u001b[0;34m:\u001b[0m\u001b[0;34m\u001b[0m\u001b[0;34m\u001b[0m\u001b[0m\n\u001b[1;32m    100\u001b[0m             raise ValueError('Shape of sample %s of sequence at position %s '\n",
            "\u001b[0;31mValueError\u001b[0m: invalid literal for int() with base 10: 'i'"
          ]
        }
      ]
    },
    {
      "cell_type": "code",
      "source": [
        "from keras.models import Sequential\n",
        "from keras.layers import Embedding, LSTM, Dense, Dropout, GRUV2, SimpleRNN\n",
        "\n",
        "embedding_size = 32\n",
        "vocabulary_size = len(w2v_cbow.wv.vocab)\n",
        "max_words = 706\n",
        "model = Sequential()\n",
        "model.add(Embedding(vocabulary_size, embedding_size, input_length=max_words))\n",
        "model.add(LSTM(100))\n",
        "model.add(Dense(1, activation='sigmoid'))\n",
        "\n",
        "print(model.summary())"
      ],
      "metadata": {
        "colab": {
          "base_uri": "https://localhost:8080/"
        },
        "id": "xNhCyJZ2P1Cc",
        "outputId": "e6e82e9e-7fee-4dd1-8ba6-90ea28152a41"
      },
      "execution_count": 255,
      "outputs": [
        {
          "output_type": "stream",
          "name": "stdout",
          "text": [
            "Model: \"sequential\"\n",
            "_________________________________________________________________\n",
            " Layer (type)                Output Shape              Param #   \n",
            "=================================================================\n",
            " embedding (Embedding)       (None, 706, 32)           819232    \n",
            "                                                                 \n",
            " lstm (LSTM)                 (None, 100)               53200     \n",
            "                                                                 \n",
            " dense (Dense)               (None, 1)                 101       \n",
            "                                                                 \n",
            "=================================================================\n",
            "Total params: 872,533\n",
            "Trainable params: 872,533\n",
            "Non-trainable params: 0\n",
            "_________________________________________________________________\n",
            "None\n"
          ]
        }
      ]
    },
    {
      "cell_type": "code",
      "source": [
        "model.compile(loss='binary_crossentropy', optimizer='adam', metrics=['accuracy'])"
      ],
      "metadata": {
        "id": "t8qLwKJ7QKBi"
      },
      "execution_count": 256,
      "outputs": []
    },
    {
      "cell_type": "code",
      "source": [
        "import gensim\n",
        "import multiprocessing as mp\n",
        "\n",
        "from tensorflow.keras.preprocessing.text import Tokenizer\n",
        "from tensorflow.keras.preprocessing.sequence import pad_sequences\n",
        "from tensorflow.keras.models import Sequential\n",
        "from tensorflow.keras.layers import (\n",
        "    Dense,\n",
        "    Dropout,\n",
        "    Embedding,\n",
        "    LSTM,\n",
        ")\n",
        "from tensorflow.keras.callbacks import ReduceLROnPlateau, EarlyStopping\n",
        "from sklearn.preprocessing import LabelEncoder"
      ],
      "metadata": {
        "id": "VNCKcej8_VKP"
      },
      "execution_count": 257,
      "outputs": []
    },
    {
      "cell_type": "code",
      "source": [
        "batch_size = 64\n",
        "num_epochs = 1\n",
        "\n",
        "X_valid, y_valid = X_train2[:batch_size], y_train2[:batch_size]  # first batch_size samples\n",
        "X_train3, y_train3 = X_train2[batch_size:], y_train2[batch_size:]  # rest for training\n",
        "\n",
        "model.fit(X_train3, y_train3,\n",
        "          validation_data=(X_valid, y_valid),\n",
        "          batch_size=batch_size, epochs=num_epochs)"
      ],
      "metadata": {
        "colab": {
          "base_uri": "https://localhost:8080/",
          "height": 346
        },
        "id": "EkxqrqLiQK4p",
        "outputId": "2d370cec-b5c3-4ec0-ab4e-73aff3978f59"
      },
      "execution_count": 258,
      "outputs": [
        {
          "output_type": "error",
          "ename": "ValueError",
          "evalue": "ignored",
          "traceback": [
            "\u001b[0;31m---------------------------------------------------------------------------\u001b[0m",
            "\u001b[0;31mValueError\u001b[0m                                Traceback (most recent call last)",
            "\u001b[0;32m<ipython-input-258-e2d8d86646e4>\u001b[0m in \u001b[0;36m<module>\u001b[0;34m()\u001b[0m\n\u001b[1;32m      7\u001b[0m model.fit(X_train3, y_train3,\n\u001b[1;32m      8\u001b[0m           \u001b[0mvalidation_data\u001b[0m\u001b[0;34m=\u001b[0m\u001b[0;34m(\u001b[0m\u001b[0mX_valid\u001b[0m\u001b[0;34m,\u001b[0m \u001b[0my_valid\u001b[0m\u001b[0;34m)\u001b[0m\u001b[0;34m,\u001b[0m\u001b[0;34m\u001b[0m\u001b[0;34m\u001b[0m\u001b[0m\n\u001b[0;32m----> 9\u001b[0;31m           batch_size=batch_size, epochs=num_epochs)\n\u001b[0m",
            "\u001b[0;32m/usr/local/lib/python3.7/dist-packages/keras/utils/traceback_utils.py\u001b[0m in \u001b[0;36merror_handler\u001b[0;34m(*args, **kwargs)\u001b[0m\n\u001b[1;32m     65\u001b[0m     \u001b[0;32mexcept\u001b[0m \u001b[0mException\u001b[0m \u001b[0;32mas\u001b[0m \u001b[0me\u001b[0m\u001b[0;34m:\u001b[0m  \u001b[0;31m# pylint: disable=broad-except\u001b[0m\u001b[0;34m\u001b[0m\u001b[0;34m\u001b[0m\u001b[0m\n\u001b[1;32m     66\u001b[0m       \u001b[0mfiltered_tb\u001b[0m \u001b[0;34m=\u001b[0m \u001b[0m_process_traceback_frames\u001b[0m\u001b[0;34m(\u001b[0m\u001b[0me\u001b[0m\u001b[0;34m.\u001b[0m\u001b[0m__traceback__\u001b[0m\u001b[0;34m)\u001b[0m\u001b[0;34m\u001b[0m\u001b[0;34m\u001b[0m\u001b[0m\n\u001b[0;32m---> 67\u001b[0;31m       \u001b[0;32mraise\u001b[0m \u001b[0me\u001b[0m\u001b[0;34m.\u001b[0m\u001b[0mwith_traceback\u001b[0m\u001b[0;34m(\u001b[0m\u001b[0mfiltered_tb\u001b[0m\u001b[0;34m)\u001b[0m \u001b[0;32mfrom\u001b[0m \u001b[0;32mNone\u001b[0m\u001b[0;34m\u001b[0m\u001b[0;34m\u001b[0m\u001b[0m\n\u001b[0m\u001b[1;32m     68\u001b[0m     \u001b[0;32mfinally\u001b[0m\u001b[0;34m:\u001b[0m\u001b[0;34m\u001b[0m\u001b[0;34m\u001b[0m\u001b[0m\n\u001b[1;32m     69\u001b[0m       \u001b[0;32mdel\u001b[0m \u001b[0mfiltered_tb\u001b[0m\u001b[0;34m\u001b[0m\u001b[0;34m\u001b[0m\u001b[0m\n",
            "\u001b[0;32m/usr/local/lib/python3.7/dist-packages/tensorflow/python/framework/constant_op.py\u001b[0m in \u001b[0;36mconvert_to_eager_tensor\u001b[0;34m(value, ctx, dtype)\u001b[0m\n\u001b[1;32m    100\u001b[0m       \u001b[0mdtype\u001b[0m \u001b[0;34m=\u001b[0m \u001b[0mdtypes\u001b[0m\u001b[0;34m.\u001b[0m\u001b[0mas_dtype\u001b[0m\u001b[0;34m(\u001b[0m\u001b[0mdtype\u001b[0m\u001b[0;34m)\u001b[0m\u001b[0;34m.\u001b[0m\u001b[0mas_datatype_enum\u001b[0m\u001b[0;34m\u001b[0m\u001b[0;34m\u001b[0m\u001b[0m\n\u001b[1;32m    101\u001b[0m   \u001b[0mctx\u001b[0m\u001b[0;34m.\u001b[0m\u001b[0mensure_initialized\u001b[0m\u001b[0;34m(\u001b[0m\u001b[0;34m)\u001b[0m\u001b[0;34m\u001b[0m\u001b[0;34m\u001b[0m\u001b[0m\n\u001b[0;32m--> 102\u001b[0;31m   \u001b[0;32mreturn\u001b[0m \u001b[0mops\u001b[0m\u001b[0;34m.\u001b[0m\u001b[0mEagerTensor\u001b[0m\u001b[0;34m(\u001b[0m\u001b[0mvalue\u001b[0m\u001b[0;34m,\u001b[0m \u001b[0mctx\u001b[0m\u001b[0;34m.\u001b[0m\u001b[0mdevice_name\u001b[0m\u001b[0;34m,\u001b[0m \u001b[0mdtype\u001b[0m\u001b[0;34m)\u001b[0m\u001b[0;34m\u001b[0m\u001b[0;34m\u001b[0m\u001b[0m\n\u001b[0m\u001b[1;32m    103\u001b[0m \u001b[0;34m\u001b[0m\u001b[0m\n\u001b[1;32m    104\u001b[0m \u001b[0;34m\u001b[0m\u001b[0m\n",
            "\u001b[0;31mValueError\u001b[0m: Failed to convert a NumPy array to a Tensor (Unsupported object type list)."
          ]
        }
      ]
    },
    {
      "cell_type": "markdown",
      "source": [
        "#4. Reporte de métricas y conclusiones"
      ],
      "metadata": {
        "id": "Q4CJmZmKMshd"
      }
    },
    {
      "cell_type": "code",
      "source": [
        "X_train_2 = X_train_\n",
        "X_test_2 = X_test_"
      ],
      "metadata": {
        "id": "wTKp-QZZSrgx"
      },
      "execution_count": 259,
      "outputs": []
    },
    {
      "cell_type": "markdown",
      "source": [
        "##Regresión Logística"
      ],
      "metadata": {
        "id": "WnnpFdFcMWVv"
      }
    },
    {
      "cell_type": "code",
      "source": [
        "c_params = [0.01, 0.05, 0.25, 0.5, 1, 10, 100, 1000, 10000]\n",
        "\n",
        "train_acc = list()\n",
        "test_acc = list()\n",
        "for c in c_params:\n",
        "    lr = LogisticRegression(C=c, solver='lbfgs', max_iter=500)\n",
        "    lr.fit(X_train_, y_train)\n",
        "    \n",
        "    train_predict = lr.predict(X_train_)\n",
        "    test_predict = lr.predict(X_test_)\n",
        "    \n",
        "    print (\"Accuracy for C={}: {}\".format(c, accuracy_score(y_test, test_predict)))\n",
        "    \n",
        "    train_acc.append(accuracy_score(y_train, train_predict))\n",
        "    test_acc.append(accuracy_score(y_test, test_predict))"
      ],
      "metadata": {
        "colab": {
          "base_uri": "https://localhost:8080/"
        },
        "id": "1wn5LM5FI46X",
        "outputId": "a4215aeb-4823-42bf-96ef-0bad6c5ed2fc"
      },
      "execution_count": 260,
      "outputs": [
        {
          "output_type": "stream",
          "name": "stdout",
          "text": [
            "Accuracy for C=0.01: 0.8087139475760498\n",
            "Accuracy for C=0.05: 0.8286140089418778\n",
            "Accuracy for C=0.25: 0.8413255018848076\n",
            "Accuracy for C=0.5: 0.8453581134391164\n",
            "Accuracy for C=1: 0.844569124221969\n",
            "Accuracy for C=10: 0.8429034803191023\n",
            "Accuracy for C=100: 0.8407118436048041\n"
          ]
        },
        {
          "output_type": "stream",
          "name": "stderr",
          "text": [
            "/usr/local/lib/python3.7/dist-packages/sklearn/linear_model/_logistic.py:818: ConvergenceWarning: lbfgs failed to converge (status=1):\n",
            "STOP: TOTAL NO. of ITERATIONS REACHED LIMIT.\n",
            "\n",
            "Increase the number of iterations (max_iter) or scale the data as shown in:\n",
            "    https://scikit-learn.org/stable/modules/preprocessing.html\n",
            "Please also refer to the documentation for alternative solver options:\n",
            "    https://scikit-learn.org/stable/modules/linear_model.html#logistic-regression\n",
            "  extra_warning_msg=_LOGISTIC_SOLVER_CONVERGENCE_MSG,\n"
          ]
        },
        {
          "output_type": "stream",
          "name": "stdout",
          "text": [
            "Accuracy for C=1000: 0.8407118436048041\n",
            "Accuracy for C=10000: 0.8406241781362321\n"
          ]
        },
        {
          "output_type": "stream",
          "name": "stderr",
          "text": [
            "/usr/local/lib/python3.7/dist-packages/sklearn/linear_model/_logistic.py:818: ConvergenceWarning: lbfgs failed to converge (status=1):\n",
            "STOP: TOTAL NO. of ITERATIONS REACHED LIMIT.\n",
            "\n",
            "Increase the number of iterations (max_iter) or scale the data as shown in:\n",
            "    https://scikit-learn.org/stable/modules/preprocessing.html\n",
            "Please also refer to the documentation for alternative solver options:\n",
            "    https://scikit-learn.org/stable/modules/linear_model.html#logistic-regression\n",
            "  extra_warning_msg=_LOGISTIC_SOLVER_CONVERGENCE_MSG,\n"
          ]
        }
      ]
    },
    {
      "cell_type": "code",
      "source": [
        "print('Confussion matrix:\\n{}'.format(confusion_matrix(y_test, test_predict)))\n",
        "print('\\nClassification report:\\n{}'.format(classification_report(y_test, test_predict)))\n",
        "print('Accuracy score:{}'.format(accuracy_score(y_test, test_predict)))"
      ],
      "metadata": {
        "colab": {
          "base_uri": "https://localhost:8080/"
        },
        "id": "_D9v3XzBKFXI",
        "outputId": "da736019-9083-4923-ac2e-eb0c3c7b8b36"
      },
      "execution_count": 261,
      "outputs": [
        {
          "output_type": "stream",
          "name": "stdout",
          "text": [
            "Confussion matrix:\n",
            "[[4795  909]\n",
            " [ 909 4794]]\n",
            "\n",
            "Classification report:\n",
            "              precision    recall  f1-score   support\n",
            "\n",
            "           0       0.84      0.84      0.84      5704\n",
            "           1       0.84      0.84      0.84      5703\n",
            "\n",
            "    accuracy                           0.84     11407\n",
            "   macro avg       0.84      0.84      0.84     11407\n",
            "weighted avg       0.84      0.84      0.84     11407\n",
            "\n",
            "Accuracy score:0.8406241781362321\n"
          ]
        }
      ]
    },
    {
      "cell_type": "code",
      "source": [
        "import matplotlib.pyplot as plt\n",
        "import numpy as np\n",
        "\n",
        "plt.figure(figsize=(12, 8))\n",
        "plt.plot(train_acc, label='train')\n",
        "plt.plot(test_acc, label='test')\n",
        "plt.axvline(np.argmax(test_acc), c='g', ls='--', alpha=0.8)\n",
        "plt.title('Accuracy evolution for different C values')\n",
        "plt.xlabel('C')\n",
        "plt.ylabel('Accuracy')\n",
        "plt.legend()\n",
        "plt.grid()\n",
        "plt.xticks(list(range(len(c_params))), c_params)\n",
        "plt.tight_layout()\n",
        "plt.show()"
      ],
      "metadata": {
        "colab": {
          "base_uri": "https://localhost:8080/",
          "height": 585
        },
        "id": "UvHVDicwKLc3",
        "outputId": "d2ca44d0-f641-474e-95bb-5da5fb2c16ed"
      },
      "execution_count": 262,
      "outputs": [
        {
          "output_type": "display_data",
          "data": {
            "text/plain": [
              "<Figure size 864x576 with 1 Axes>"
            ],
            "image/png": "[encoded data removed]"
          },
          "metadata": {
            "needs_background": "light"
          }
        }
      ]
    },
    {
      "cell_type": "markdown",
      "source": [
        "##Gradient Boosting Classifier"
      ],
      "metadata": {
        "id": "HV4Ct6GUMfSG"
      }
    },
    {
      "cell_type": "code",
      "source": [
        "c_params2 = [0.01, 0.05, 0.25, 0.5, 1, 10] #100, 1000, 10000\n",
        "\n",
        "train_acc2 = list()\n",
        "test_acc2 = list()\n",
        "for c2 in c_params2:\n",
        "    clf = GradientBoostingClassifier(n_estimators=50, max_depth=10, random_state=30)\n",
        "    clf.fit(X_train_2, y_train)\n",
        "    \n",
        "    train_predict2 = clf.predict(X_train_2)\n",
        "    test_predict2 = clf.predict(X_test_2)\n",
        "    \n",
        "    print (\"Accuracy for C2={}: {}\".format(c2, accuracy_score(y_test, test_predict2)))\n",
        "    \n",
        "    train_acc2.append(accuracy_score(y_train, train_predict2))\n",
        "    test_acc2.append(accuracy_score(y_test, test_predict2))"
      ],
      "metadata": {
        "colab": {
          "base_uri": "https://localhost:8080/"
        },
        "id": "J62Xqam7Gjzt",
        "outputId": "808aca6d-6e67-4869-d4d9-a1cb59c5f06d"
      },
      "execution_count": 263,
      "outputs": [
        {
          "output_type": "stream",
          "name": "stdout",
          "text": [
            "Accuracy for C2=0.01: 0.7894275444902253\n",
            "Accuracy for C2=0.05: 0.7894275444902253\n",
            "Accuracy for C2=0.25: 0.7894275444902253\n",
            "Accuracy for C2=0.5: 0.7894275444902253\n",
            "Accuracy for C2=1: 0.7894275444902253\n",
            "Accuracy for C2=10: 0.7894275444902253\n"
          ]
        }
      ]
    },
    {
      "cell_type": "code",
      "source": [
        "print('Confussion matrix:\\n{}'.format(confusion_matrix(y_test, test_predict2)))\n",
        "print('\\nClassification report:\\n{}'.format(classification_report(y_test, test_predict2)))\n",
        "print('Accuracy score:{}'.format(accuracy_score(y_test, test_predict2)))"
      ],
      "metadata": {
        "colab": {
          "base_uri": "https://localhost:8080/"
        },
        "id": "VKQjfO2qL2i3",
        "outputId": "649a9455-66bd-4ddf-b45c-d54f63e36ca2"
      },
      "execution_count": 264,
      "outputs": [
        {
          "output_type": "stream",
          "name": "stdout",
          "text": [
            "Confussion matrix:\n",
            "[[4596 1108]\n",
            " [1294 4409]]\n",
            "\n",
            "Classification report:\n",
            "              precision    recall  f1-score   support\n",
            "\n",
            "           0       0.78      0.81      0.79      5704\n",
            "           1       0.80      0.77      0.79      5703\n",
            "\n",
            "    accuracy                           0.79     11407\n",
            "   macro avg       0.79      0.79      0.79     11407\n",
            "weighted avg       0.79      0.79      0.79     11407\n",
            "\n",
            "Accuracy score:0.7894275444902253\n"
          ]
        }
      ]
    },
    {
      "cell_type": "code",
      "source": [
        "plt.figure(figsize=(12, 8))\n",
        "plt.plot(train_acc2, label='train')\n",
        "plt.plot(test_acc2, label='test')\n",
        "plt.axvline(np.argmax(test_acc2), c='g', ls='--', alpha=0.8)\n",
        "plt.title('Accuracy evolution for different C values')\n",
        "plt.xlabel('C')\n",
        "plt.ylabel('Accuracy')\n",
        "plt.legend()\n",
        "plt.grid()\n",
        "plt.xticks(list(range(len(c_params2))), c_params2)\n",
        "plt.tight_layout()\n",
        "plt.show()"
      ],
      "metadata": {
        "colab": {
          "base_uri": "https://localhost:8080/",
          "height": 585
        },
        "id": "8x-My2ZsL8qn",
        "outputId": "3c794006-d0c4-447b-ef71-4409567e99a7"
      },
      "execution_count": 265,
      "outputs": [
        {
          "output_type": "display_data",
          "data": {
            "text/plain": [
              "<Figure size 864x576 with 1 Axes>"
            ],
            "image/png": "[encoded data removed]"
          },
          "metadata": {
            "needs_background": "light"
          }
        }
      ]
    },
    {
      "cell_type": "code",
      "source": [
        ""
      ],
      "metadata": {
        "id": "BV619pRIKBbk"
      },
      "execution_count": 265,
      "outputs": []
    },
    {
      "cell_type": "markdown",
      "source": [
        "Como hemos podido ver, el modelo de regresion lógistica que hemos aplicado durante el proyecto, no arroja unos resultados muy convincentes (0.85 en su mayoría),pero en el momento de pasarlo a diferentes LR, y ver sus posibles soluciones, si que que las métricas obtenidas son más razonables. \n",
        "\n",
        "En el modelo de Gradient Boosting, tenemos que hay overfitting claramente, ya que el modelo expulsa unos resultados más o menos buenos en train, pero bajan considerablemente en test. En cambio, cuando lo pasamos a diferentes métricas, nos arroja un resultado exactamente igual (consistente, pero no exactamente bueno).\n",
        "\n",
        "Es probable que, con una distribución de datos más adecuada, así como la implementación de algunos stopwords adicionales, nos pudieran mejorar los modelos de manera más adecuada de acuerdo a los objetivos del proyecto.\n",
        "\n",
        "Para ser un contacto inicial con los datos, quizás no son tan malos. Es cuestión de rasgar en el preprocesamiento y entrenamiento de los mismos, para que puedan ser considerablemente mejores. "
      ],
      "metadata": {
        "id": "qI4ZUlFwKLWN"
      }
    }
  ]
}